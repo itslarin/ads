{
 "cells": [
  {
   "cell_type": "markdown",
   "metadata": {},
   "source": [
    "Аналитики очень любят смотреть на графики. Однажды аналитик ВКонтакте пришёл на работу, открыл графики количества рекламных событий по дням (смотри приложение) и сразу же заметил сильный скачок данных за 11 апреля. \n",
    "\n",
    "\n",
    "\n",
    "Давайте поможем аналитику разобраться, что произошло. Какие-то ошибки в сборе статистик, дублирование данных? Или переживать не нужно и такой рост имеет разумное объяснение? "
   ]
  },
  {
   "cell_type": "markdown",
   "metadata": {},
   "source": [
    "Задача:\n",
    "1. Воспроизведите график числа рекламных событий по дням. \n",
    "2. Найдите причину резкого увеличения количества рекламных событий и объясните, что произошло. \n",
    "З*. Предложите способ, который помог бы автоматически детектировать аномальные изменения метрик на графиках рекламной статистики. Иными словами, предложите алгоритм, который каждое утро анализирует данные за прошедшие сутки, и, если они сильно выбиваются из общего тренда, отправляет аналитику уведомление: на этом графике есть проблема за вчерашний день. Подумайте, как сделать детектор, который проверяет на аномалии каждый час, каждые пять минут в графике? \n",
    "Предложите вариант кода, который решает эту задачу. Реализовывать логику нотификации не нужно, только поиск аномального дня, часа, пятиминутки в данных рекламной статистики. \n",
    "\n",
    "Немного дополнительной информации о структуре рекламы ВКонтакте. Есть две основные группы рекламодателей: агентства и клиенты. Агентствами являются рекламные кабинеты юридических лиц. Среди клиентов же существуют как клиенты этих самых агентств, так и автономные рекламные кабинеты физических лиц, над которыми нет агентств. Рекламные кампании — это наборы рекламных объявлений. Они есть в каждом кабинете. "
   ]
  },
  {
   "cell_type": "code",
   "execution_count": 3,
   "metadata": {},
   "outputs": [],
   "source": [
    "import pandas as pd"
   ]
  },
  {
   "cell_type": "code",
   "execution_count": 4,
   "metadata": {},
   "outputs": [],
   "source": [
    "df = pd.read_csv('Data.csv',parse_dates=True)"
   ]
  },
  {
   "cell_type": "code",
   "execution_count": 5,
   "metadata": {},
   "outputs": [],
   "source": [
    "df.time = pd.to_datetime(df.time, unit='s')"
   ]
  },
  {
   "cell_type": "code",
   "execution_count": 6,
   "metadata": {},
   "outputs": [
    {
     "data": {
      "text/html": [
       "<div>\n",
       "<style scoped>\n",
       "    .dataframe tbody tr th:only-of-type {\n",
       "        vertical-align: middle;\n",
       "    }\n",
       "\n",
       "    .dataframe tbody tr th {\n",
       "        vertical-align: top;\n",
       "    }\n",
       "\n",
       "    .dataframe thead th {\n",
       "        text-align: right;\n",
       "    }\n",
       "</style>\n",
       "<table border=\"1\" class=\"dataframe\">\n",
       "  <thead>\n",
       "    <tr style=\"text-align: right;\">\n",
       "      <th></th>\n",
       "      <th>time</th>\n",
       "      <th>event</th>\n",
       "      <th>ad_cost_type</th>\n",
       "      <th>has_video</th>\n",
       "      <th>agency_union_id</th>\n",
       "      <th>client_union_id</th>\n",
       "      <th>campaign_union_id</th>\n",
       "      <th>ad_id</th>\n",
       "      <th>platform</th>\n",
       "      <th>date</th>\n",
       "    </tr>\n",
       "  </thead>\n",
       "  <tbody>\n",
       "    <tr>\n",
       "      <th>0</th>\n",
       "      <td>2019-04-08 17:22:25</td>\n",
       "      <td>report</td>\n",
       "      <td>CPM</td>\n",
       "      <td>0</td>\n",
       "      <td>no_agency</td>\n",
       "      <td>client_21074</td>\n",
       "      <td>campaign_27489</td>\n",
       "      <td>ad_27489</td>\n",
       "      <td>android</td>\n",
       "      <td>2019-04-08</td>\n",
       "    </tr>\n",
       "    <tr>\n",
       "      <th>1</th>\n",
       "      <td>2019-04-12 21:10:58</td>\n",
       "      <td>click</td>\n",
       "      <td>CPM</td>\n",
       "      <td>0</td>\n",
       "      <td>no_agency</td>\n",
       "      <td>client_22392</td>\n",
       "      <td>campaign_35893</td>\n",
       "      <td>ad_35893</td>\n",
       "      <td>android</td>\n",
       "      <td>2019-04-12</td>\n",
       "    </tr>\n",
       "    <tr>\n",
       "      <th>2</th>\n",
       "      <td>2019-04-16 08:16:41</td>\n",
       "      <td>click</td>\n",
       "      <td>CPM</td>\n",
       "      <td>0</td>\n",
       "      <td>no_agency</td>\n",
       "      <td>client_16836</td>\n",
       "      <td>campaign_26799</td>\n",
       "      <td>ad_26804</td>\n",
       "      <td>web</td>\n",
       "      <td>2019-04-16</td>\n",
       "    </tr>\n",
       "    <tr>\n",
       "      <th>3</th>\n",
       "      <td>2019-04-09 15:07:59</td>\n",
       "      <td>click</td>\n",
       "      <td>CPM</td>\n",
       "      <td>0</td>\n",
       "      <td>no_agency</td>\n",
       "      <td>client_22920</td>\n",
       "      <td>campaign_37146</td>\n",
       "      <td>ad_37146</td>\n",
       "      <td>android</td>\n",
       "      <td>2019-04-09</td>\n",
       "    </tr>\n",
       "    <tr>\n",
       "      <th>4</th>\n",
       "      <td>2019-04-11 07:11:57</td>\n",
       "      <td>click</td>\n",
       "      <td>CPM</td>\n",
       "      <td>0</td>\n",
       "      <td>no_agency</td>\n",
       "      <td>client_645</td>\n",
       "      <td>campaign_15893</td>\n",
       "      <td>ad_15944</td>\n",
       "      <td>web</td>\n",
       "      <td>2019-04-11</td>\n",
       "    </tr>\n",
       "  </tbody>\n",
       "</table>\n",
       "</div>"
      ],
      "text/plain": [
       "                 time   event ad_cost_type  has_video agency_union_id  \\\n",
       "0 2019-04-08 17:22:25  report          CPM          0       no_agency   \n",
       "1 2019-04-12 21:10:58   click          CPM          0       no_agency   \n",
       "2 2019-04-16 08:16:41   click          CPM          0       no_agency   \n",
       "3 2019-04-09 15:07:59   click          CPM          0       no_agency   \n",
       "4 2019-04-11 07:11:57   click          CPM          0       no_agency   \n",
       "\n",
       "  client_union_id campaign_union_id     ad_id platform        date  \n",
       "0    client_21074    campaign_27489  ad_27489  android  2019-04-08  \n",
       "1    client_22392    campaign_35893  ad_35893  android  2019-04-12  \n",
       "2    client_16836    campaign_26799  ad_26804      web  2019-04-16  \n",
       "3    client_22920    campaign_37146  ad_37146  android  2019-04-09  \n",
       "4      client_645    campaign_15893  ad_15944      web  2019-04-11  "
      ]
     },
     "execution_count": 6,
     "metadata": {},
     "output_type": "execute_result"
    }
   ],
   "source": [
    "df.head()"
   ]
  },
  {
   "cell_type": "code",
   "execution_count": null,
   "metadata": {},
   "outputs": [],
   "source": []
  },
  {
   "cell_type": "code",
   "execution_count": 7,
   "metadata": {},
   "outputs": [
    {
     "data": {
      "text/plain": [
       "2019-04-11    18259\n",
       "2019-04-13    10999\n",
       "2019-04-12    10740\n",
       "2019-04-08     8902\n",
       "2019-04-14     8656\n",
       "2019-04-09     7963\n",
       "2019-04-16     7766\n",
       "2019-04-15     7457\n",
       "2019-04-10     7098\n",
       "2019-04-03     5357\n",
       "2019-04-05     5305\n",
       "2019-04-02     5269\n",
       "2019-04-01     5172\n",
       "2019-04-04     5108\n",
       "2019-04-07     4091\n",
       "2019-04-06     3955\n",
       "Name: date, dtype: int64"
      ]
     },
     "execution_count": 7,
     "metadata": {},
     "output_type": "execute_result"
    }
   ],
   "source": [
    "df['date'].value_counts()"
   ]
  },
  {
   "cell_type": "code",
   "execution_count": 8,
   "metadata": {},
   "outputs": [],
   "source": [
    "df2 = df.groupby(['date'])['time'].count()"
   ]
  },
  {
   "cell_type": "code",
   "execution_count": 9,
   "metadata": {},
   "outputs": [
    {
     "data": {
      "text/plain": [
       "date\n",
       "2019-04-01     5172\n",
       "2019-04-02     5269\n",
       "2019-04-03     5357\n",
       "2019-04-04     5108\n",
       "2019-04-05     5305\n",
       "2019-04-06     3955\n",
       "2019-04-07     4091\n",
       "2019-04-08     8902\n",
       "2019-04-09     7963\n",
       "2019-04-10     7098\n",
       "2019-04-11    18259\n",
       "2019-04-12    10740\n",
       "2019-04-13    10999\n",
       "2019-04-14     8656\n",
       "2019-04-15     7457\n",
       "2019-04-16     7766\n",
       "Name: time, dtype: int64"
      ]
     },
     "execution_count": 9,
     "metadata": {},
     "output_type": "execute_result"
    }
   ],
   "source": [
    "df2.head(50)"
   ]
  },
  {
   "cell_type": "code",
   "execution_count": 11,
   "metadata": {},
   "outputs": [
    {
     "data": {
      "text/plain": [
       "<matplotlib.axes._subplots.AxesSubplot at 0xf1fac88>"
      ]
     },
     "execution_count": 11,
     "metadata": {},
     "output_type": "execute_result"
    },
    {
     "data": {
      "image/png": "[encoded data removed]",
      "text/plain": [
       "<Figure size 432x288 with 1 Axes>"
      ]
     },
     "metadata": {
      "needs_background": "light"
     },
     "output_type": "display_data"
    }
   ],
   "source": [
    "df2.plot(x='date')"
   ]
  },
  {
   "cell_type": "code",
   "execution_count": 12,
   "metadata": {},
   "outputs": [
    {
     "data": {
      "text/plain": [
       "<matplotlib.axes._subplots.AxesSubplot at 0xf26dc88>"
      ]
     },
     "execution_count": 12,
     "metadata": {},
     "output_type": "execute_result"
    },
    {
     "data": {
      "image/png": "[encoded data removed]",
      "text/plain": [
       "<Figure size 432x288 with 1 Axes>"
      ]
     },
     "metadata": {
      "needs_background": "light"
     },
     "output_type": "display_data"
    }
   ],
   "source": [
    "df2.hist()"
   ]
  },
  {
   "cell_type": "code",
   "execution_count": 13,
   "metadata": {},
   "outputs": [
    {
     "data": {
      "text/plain": [
       "<matplotlib.axes._subplots.AxesSubplot at 0xf2ab668>"
      ]
     },
     "execution_count": 13,
     "metadata": {},
     "output_type": "execute_result"
    },
    {
     "data": {
      "image/png": "[encoded data removed]",
      "text/plain": [
       "<Figure size 432x288 with 1 Axes>"
      ]
     },
     "metadata": {
      "needs_background": "light"
     },
     "output_type": "display_data"
    }
   ],
   "source": [
    "df2.plot(kind='kde')"
   ]
  },
  {
   "cell_type": "code",
   "execution_count": 42,
   "metadata": {},
   "outputs": [
    {
     "data": {
      "text/html": [
       "<div>\n",
       "<style scoped>\n",
       "    .dataframe tbody tr th:only-of-type {\n",
       "        vertical-align: middle;\n",
       "    }\n",
       "\n",
       "    .dataframe tbody tr th {\n",
       "        vertical-align: top;\n",
       "    }\n",
       "\n",
       "    .dataframe thead th {\n",
       "        text-align: right;\n",
       "    }\n",
       "</style>\n",
       "<table border=\"1\" class=\"dataframe\">\n",
       "  <thead>\n",
       "    <tr style=\"text-align: right;\">\n",
       "      <th></th>\n",
       "      <th></th>\n",
       "      <th>time</th>\n",
       "      <th>ad_cost_type</th>\n",
       "      <th>has_video</th>\n",
       "      <th>agency_union_id</th>\n",
       "      <th>client_union_id</th>\n",
       "      <th>campaign_union_id</th>\n",
       "      <th>ad_id</th>\n",
       "      <th>platform</th>\n",
       "    </tr>\n",
       "    <tr>\n",
       "      <th>date</th>\n",
       "      <th>event</th>\n",
       "      <th></th>\n",
       "      <th></th>\n",
       "      <th></th>\n",
       "      <th></th>\n",
       "      <th></th>\n",
       "      <th></th>\n",
       "      <th></th>\n",
       "      <th></th>\n",
       "    </tr>\n",
       "  </thead>\n",
       "  <tbody>\n",
       "    <tr>\n",
       "      <th rowspan=\"3\" valign=\"top\">2019-04-01</th>\n",
       "      <th>click</th>\n",
       "      <td>1827</td>\n",
       "      <td>1827</td>\n",
       "      <td>1827</td>\n",
       "      <td>1827</td>\n",
       "      <td>1827</td>\n",
       "      <td>1827</td>\n",
       "      <td>1827</td>\n",
       "      <td>1827</td>\n",
       "    </tr>\n",
       "    <tr>\n",
       "      <th>report</th>\n",
       "      <td>362</td>\n",
       "      <td>362</td>\n",
       "      <td>362</td>\n",
       "      <td>362</td>\n",
       "      <td>362</td>\n",
       "      <td>362</td>\n",
       "      <td>362</td>\n",
       "      <td>362</td>\n",
       "    </tr>\n",
       "    <tr>\n",
       "      <th>view</th>\n",
       "      <td>2983</td>\n",
       "      <td>2983</td>\n",
       "      <td>2983</td>\n",
       "      <td>2983</td>\n",
       "      <td>2983</td>\n",
       "      <td>2983</td>\n",
       "      <td>2983</td>\n",
       "      <td>2983</td>\n",
       "    </tr>\n",
       "    <tr>\n",
       "      <th rowspan=\"2\" valign=\"top\">2019-04-02</th>\n",
       "      <th>click</th>\n",
       "      <td>1898</td>\n",
       "      <td>1898</td>\n",
       "      <td>1898</td>\n",
       "      <td>1898</td>\n",
       "      <td>1898</td>\n",
       "      <td>1898</td>\n",
       "      <td>1898</td>\n",
       "      <td>1898</td>\n",
       "    </tr>\n",
       "    <tr>\n",
       "      <th>report</th>\n",
       "      <td>366</td>\n",
       "      <td>366</td>\n",
       "      <td>366</td>\n",
       "      <td>366</td>\n",
       "      <td>366</td>\n",
       "      <td>366</td>\n",
       "      <td>366</td>\n",
       "      <td>366</td>\n",
       "    </tr>\n",
       "  </tbody>\n",
       "</table>\n",
       "</div>"
      ],
      "text/plain": [
       "                   time  ad_cost_type  has_video  agency_union_id  \\\n",
       "date       event                                                    \n",
       "2019-04-01 click   1827          1827       1827             1827   \n",
       "           report   362           362        362              362   \n",
       "           view    2983          2983       2983             2983   \n",
       "2019-04-02 click   1898          1898       1898             1898   \n",
       "           report   366           366        366              366   \n",
       "\n",
       "                   client_union_id  campaign_union_id  ad_id  platform  \n",
       "date       event                                                        \n",
       "2019-04-01 click              1827               1827   1827      1827  \n",
       "           report              362                362    362       362  \n",
       "           view               2983               2983   2983      2983  \n",
       "2019-04-02 click              1898               1898   1898      1898  \n",
       "           report              366                366    366       366  "
      ]
     },
     "execution_count": 42,
     "metadata": {},
     "output_type": "execute_result"
    }
   ],
   "source": [
    "df.groupby(['date','event']).count().head()"
   ]
  },
  {
   "cell_type": "code",
   "execution_count": 40,
   "metadata": {},
   "outputs": [
    {
     "data": {
      "text/html": [
       "<div>\n",
       "<style scoped>\n",
       "    .dataframe tbody tr th:only-of-type {\n",
       "        vertical-align: middle;\n",
       "    }\n",
       "\n",
       "    .dataframe tbody tr th {\n",
       "        vertical-align: top;\n",
       "    }\n",
       "\n",
       "    .dataframe thead th {\n",
       "        text-align: right;\n",
       "    }\n",
       "</style>\n",
       "<table border=\"1\" class=\"dataframe\">\n",
       "  <thead>\n",
       "    <tr style=\"text-align: right;\">\n",
       "      <th></th>\n",
       "      <th></th>\n",
       "      <th>date</th>\n",
       "      <th>ad_id</th>\n",
       "    </tr>\n",
       "    <tr>\n",
       "      <th>date</th>\n",
       "      <th>ad_id</th>\n",
       "      <th></th>\n",
       "      <th></th>\n",
       "    </tr>\n",
       "  </thead>\n",
       "  <tbody>\n",
       "    <tr>\n",
       "      <th rowspan=\"5\" valign=\"top\">2019-04-01</th>\n",
       "      <th>ad_1</th>\n",
       "      <td>2019-04-01</td>\n",
       "      <td>9</td>\n",
       "    </tr>\n",
       "    <tr>\n",
       "      <th>ad_10008</th>\n",
       "      <td>2019-04-01</td>\n",
       "      <td>1</td>\n",
       "    </tr>\n",
       "    <tr>\n",
       "      <th>ad_10010</th>\n",
       "      <td>2019-04-01</td>\n",
       "      <td>1</td>\n",
       "    </tr>\n",
       "    <tr>\n",
       "      <th>ad_100220</th>\n",
       "      <td>2019-04-01</td>\n",
       "      <td>24</td>\n",
       "    </tr>\n",
       "    <tr>\n",
       "      <th>ad_10032</th>\n",
       "      <td>2019-04-01</td>\n",
       "      <td>2</td>\n",
       "    </tr>\n",
       "  </tbody>\n",
       "</table>\n",
       "</div>"
      ],
      "text/plain": [
       "                            date  ad_id\n",
       "date       ad_id                       \n",
       "2019-04-01 ad_1       2019-04-01      9\n",
       "           ad_10008   2019-04-01      1\n",
       "           ad_10010   2019-04-01      1\n",
       "           ad_100220  2019-04-01     24\n",
       "           ad_10032   2019-04-01      2"
      ]
     },
     "execution_count": 40,
     "metadata": {},
     "output_type": "execute_result"
    }
   ],
   "source": [
    "df.groupby(['date','ad_id']).agg({'date':'first','ad_id':'count'}).head()"
   ]
  },
  {
   "cell_type": "code",
   "execution_count": 51,
   "metadata": {},
   "outputs": [
    {
     "data": {
      "text/html": [
       "<div>\n",
       "<style scoped>\n",
       "    .dataframe tbody tr th:only-of-type {\n",
       "        vertical-align: middle;\n",
       "    }\n",
       "\n",
       "    .dataframe tbody tr th {\n",
       "        vertical-align: top;\n",
       "    }\n",
       "\n",
       "    .dataframe thead th {\n",
       "        text-align: right;\n",
       "    }\n",
       "</style>\n",
       "<table border=\"1\" class=\"dataframe\">\n",
       "  <thead>\n",
       "    <tr style=\"text-align: right;\">\n",
       "      <th></th>\n",
       "      <th>date</th>\n",
       "    </tr>\n",
       "    <tr>\n",
       "      <th>ad_id</th>\n",
       "      <th></th>\n",
       "    </tr>\n",
       "  </thead>\n",
       "  <tbody>\n",
       "    <tr>\n",
       "      <th>ad_1</th>\n",
       "      <td>123</td>\n",
       "    </tr>\n",
       "    <tr>\n",
       "      <th>ad_10003</th>\n",
       "      <td>5</td>\n",
       "    </tr>\n",
       "    <tr>\n",
       "      <th>ad_10008</th>\n",
       "      <td>2</td>\n",
       "    </tr>\n",
       "    <tr>\n",
       "      <th>ad_10010</th>\n",
       "      <td>1</td>\n",
       "    </tr>\n",
       "    <tr>\n",
       "      <th>ad_10011</th>\n",
       "      <td>1</td>\n",
       "    </tr>\n",
       "  </tbody>\n",
       "</table>\n",
       "</div>"
      ],
      "text/plain": [
       "          date\n",
       "ad_id         \n",
       "ad_1       123\n",
       "ad_10003     5\n",
       "ad_10008     2\n",
       "ad_10010     1\n",
       "ad_10011     1"
      ]
     },
     "execution_count": 51,
     "metadata": {},
     "output_type": "execute_result"
    }
   ],
   "source": [
    "df.groupby(['ad_id']).agg({'date':'count'}).head()"
   ]
  },
  {
   "cell_type": "code",
   "execution_count": 57,
   "metadata": {},
   "outputs": [],
   "source": [
    "df3 = df[df.date=='2019-04-01']"
   ]
  },
  {
   "cell_type": "code",
   "execution_count": 59,
   "metadata": {},
   "outputs": [
    {
     "data": {
      "text/plain": [
       "51720"
      ]
     },
     "execution_count": 59,
     "metadata": {},
     "output_type": "execute_result"
    }
   ],
   "source": [
    "df3.size"
   ]
  },
  {
   "cell_type": "code",
   "execution_count": 61,
   "metadata": {},
   "outputs": [
    {
     "data": {
      "text/plain": [
       "ad_7701      197\n",
       "ad_99643     102\n",
       "ad_106256     78\n",
       "ad_97427      55\n",
       "ad_3024       53\n",
       "ad_5131       53\n",
       "ad_34238      44\n",
       "ad_10361      33\n",
       "ad_35577      33\n",
       "ad_106430     32\n",
       "ad_24038      32\n",
       "ad_10795      31\n",
       "ad_102873     30\n",
       "ad_18849      29\n",
       "ad_102864     29\n",
       "ad_17074      28\n",
       "ad_106529     28\n",
       "ad_8339       28\n",
       "ad_115272     25\n",
       "ad_97293      25\n",
       "ad_6308       24\n",
       "ad_106576     24\n",
       "ad_6302       24\n",
       "ad_100220     24\n",
       "ad_118032     23\n",
       "ad_24278      20\n",
       "ad_121378     19\n",
       "ad_11647      18\n",
       "ad_4210       18\n",
       "ad_119683     17\n",
       "            ... \n",
       "ad_34892       1\n",
       "ad_38127       1\n",
       "ad_104344      1\n",
       "ad_45622       1\n",
       "ad_41661       1\n",
       "ad_27299       1\n",
       "ad_116971      1\n",
       "ad_43913       1\n",
       "ad_41077       1\n",
       "ad_20498       1\n",
       "ad_111304      1\n",
       "ad_98797       1\n",
       "ad_121619      1\n",
       "ad_41708       1\n",
       "ad_12684       1\n",
       "ad_121677      1\n",
       "ad_46863       1\n",
       "ad_43493       1\n",
       "ad_18710       1\n",
       "ad_104854      1\n",
       "ad_12170       1\n",
       "ad_45577       1\n",
       "ad_45875       1\n",
       "ad_32829       1\n",
       "ad_45827       1\n",
       "ad_117406      1\n",
       "ad_11391       1\n",
       "ad_45216       1\n",
       "ad_45371       1\n",
       "ad_13848       1\n",
       "Name: ad_id, Length: 2155, dtype: int64"
      ]
     },
     "execution_count": 61,
     "metadata": {},
     "output_type": "execute_result"
    }
   ],
   "source": [
    "df3.ad_id.value_counts()"
   ]
  },
  {
   "cell_type": "code",
   "execution_count": null,
   "metadata": {},
   "outputs": [],
   "source": []
  }
 ],
 "metadata": {
  "kernelspec": {
   "display_name": "Python 3",
   "language": "python",
   "name": "python3"
  },
  "language_info": {
   "codemirror_mode": {
    "name": "ipython",
    "version": 3
   },
   "file_extension": ".py",
   "mimetype": "text/x-python",
   "name": "python",
   "nbconvert_exporter": "python",
   "pygments_lexer": "ipython3",
   "version": "3.6.1"
  }
 },
 "nbformat": 4,
 "nbformat_minor": 2
}
