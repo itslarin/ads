{
 "cells": [
  {
   "cell_type": "markdown",
   "metadata": {},
   "source": [
    "Аналитики очень любят смотреть на графики. Однажды аналитик ВКонтакте пришёл на работу, открыл графики количества рекламных событий по дням (смотри приложение) и сразу же заметил сильный скачок данных за 11 апреля. \n",
    "\n",
    "\n",
    "\n",
    "Давайте поможем аналитику разобраться, что произошло. Какие-то ошибки в сборе статистик, дублирование данных? Или переживать не нужно и такой рост имеет разумное объяснение? "
   ]
  },
  {
   "cell_type": "markdown",
   "metadata": {},
   "source": [
    "Задача:\n",
    "1. Воспроизведите график числа рекламных событий по дням. \n",
    "2. Найдите причину резкого увеличения количества рекламных событий и объясните, что произошло. \n",
    "3. Предложите способ, который помог бы автоматически детектировать аномальные изменения метрик на графиках рекламной статистики. Иными словами, предложите алгоритм, который каждое утро анализирует данные за прошедшие сутки, и, если они сильно выбиваются из общего тренда, отправляет аналитику уведомление: на этом графике есть проблема за вчерашний день. Подумайте, как сделать детектор, который проверяет на аномалии каждый час, каждые пять минут в графике? \n",
    "Предложите вариант кода, который решает эту задачу. Реализовывать логику нотификации не нужно, только поиск аномального дня, часа, пятиминутки в данных рекламной статистики. \n",
    "\n",
    "Немного дополнительной информации о структуре рекламы ВКонтакте. Есть две основные группы рекламодателей: агентства и клиенты. Агентствами являются рекламные кабинеты юридических лиц. Среди клиентов же существуют как клиенты этих самых агентств, так и автономные рекламные кабинеты физических лиц, над которыми нет агентств. Рекламные кампании — это наборы рекламных объявлений. Они есть в каждом кабинете. "
   ]
  },
  {
   "cell_type": "code",
   "execution_count": 1,
   "metadata": {},
   "outputs": [],
   "source": [
    "import pandas as pd"
   ]
  },
  {
   "cell_type": "code",
   "execution_count": 2,
   "metadata": {},
   "outputs": [],
   "source": [
    "df = pd.read_csv('Data.csv',parse_dates=True)"
   ]
  },
  {
   "cell_type": "code",
   "execution_count": 3,
   "metadata": {},
   "outputs": [],
   "source": [
    "df.time = pd.to_datetime(df.time, unit='s')"
   ]
  },
  {
   "cell_type": "code",
   "execution_count": 4,
   "metadata": {},
   "outputs": [
    {
     "data": {
      "text/html": [
       "<div>\n",
       "<style scoped>\n",
       "    .dataframe tbody tr th:only-of-type {\n",
       "        vertical-align: middle;\n",
       "    }\n",
       "\n",
       "    .dataframe tbody tr th {\n",
       "        vertical-align: top;\n",
       "    }\n",
       "\n",
       "    .dataframe thead th {\n",
       "        text-align: right;\n",
       "    }\n",
       "</style>\n",
       "<table border=\"1\" class=\"dataframe\">\n",
       "  <thead>\n",
       "    <tr style=\"text-align: right;\">\n",
       "      <th></th>\n",
       "      <th>time</th>\n",
       "      <th>event</th>\n",
       "      <th>ad_cost_type</th>\n",
       "      <th>has_video</th>\n",
       "      <th>agency_union_id</th>\n",
       "      <th>client_union_id</th>\n",
       "      <th>campaign_union_id</th>\n",
       "      <th>ad_id</th>\n",
       "      <th>platform</th>\n",
       "      <th>date</th>\n",
       "    </tr>\n",
       "  </thead>\n",
       "  <tbody>\n",
       "    <tr>\n",
       "      <th>0</th>\n",
       "      <td>2019-04-08 17:22:25</td>\n",
       "      <td>report</td>\n",
       "      <td>CPM</td>\n",
       "      <td>0</td>\n",
       "      <td>no_agency</td>\n",
       "      <td>client_21074</td>\n",
       "      <td>campaign_27489</td>\n",
       "      <td>ad_27489</td>\n",
       "      <td>android</td>\n",
       "      <td>2019-04-08</td>\n",
       "    </tr>\n",
       "    <tr>\n",
       "      <th>1</th>\n",
       "      <td>2019-04-12 21:10:58</td>\n",
       "      <td>click</td>\n",
       "      <td>CPM</td>\n",
       "      <td>0</td>\n",
       "      <td>no_agency</td>\n",
       "      <td>client_22392</td>\n",
       "      <td>campaign_35893</td>\n",
       "      <td>ad_35893</td>\n",
       "      <td>android</td>\n",
       "      <td>2019-04-12</td>\n",
       "    </tr>\n",
       "    <tr>\n",
       "      <th>2</th>\n",
       "      <td>2019-04-16 08:16:41</td>\n",
       "      <td>click</td>\n",
       "      <td>CPM</td>\n",
       "      <td>0</td>\n",
       "      <td>no_agency</td>\n",
       "      <td>client_16836</td>\n",
       "      <td>campaign_26799</td>\n",
       "      <td>ad_26804</td>\n",
       "      <td>web</td>\n",
       "      <td>2019-04-16</td>\n",
       "    </tr>\n",
       "    <tr>\n",
       "      <th>3</th>\n",
       "      <td>2019-04-09 15:07:59</td>\n",
       "      <td>click</td>\n",
       "      <td>CPM</td>\n",
       "      <td>0</td>\n",
       "      <td>no_agency</td>\n",
       "      <td>client_22920</td>\n",
       "      <td>campaign_37146</td>\n",
       "      <td>ad_37146</td>\n",
       "      <td>android</td>\n",
       "      <td>2019-04-09</td>\n",
       "    </tr>\n",
       "    <tr>\n",
       "      <th>4</th>\n",
       "      <td>2019-04-11 07:11:57</td>\n",
       "      <td>click</td>\n",
       "      <td>CPM</td>\n",
       "      <td>0</td>\n",
       "      <td>no_agency</td>\n",
       "      <td>client_645</td>\n",
       "      <td>campaign_15893</td>\n",
       "      <td>ad_15944</td>\n",
       "      <td>web</td>\n",
       "      <td>2019-04-11</td>\n",
       "    </tr>\n",
       "  </tbody>\n",
       "</table>\n",
       "</div>"
      ],
      "text/plain": [
       "                 time   event ad_cost_type  has_video agency_union_id  \\\n",
       "0 2019-04-08 17:22:25  report          CPM          0       no_agency   \n",
       "1 2019-04-12 21:10:58   click          CPM          0       no_agency   \n",
       "2 2019-04-16 08:16:41   click          CPM          0       no_agency   \n",
       "3 2019-04-09 15:07:59   click          CPM          0       no_agency   \n",
       "4 2019-04-11 07:11:57   click          CPM          0       no_agency   \n",
       "\n",
       "  client_union_id campaign_union_id     ad_id platform        date  \n",
       "0    client_21074    campaign_27489  ad_27489  android  2019-04-08  \n",
       "1    client_22392    campaign_35893  ad_35893  android  2019-04-12  \n",
       "2    client_16836    campaign_26799  ad_26804      web  2019-04-16  \n",
       "3    client_22920    campaign_37146  ad_37146  android  2019-04-09  \n",
       "4      client_645    campaign_15893  ad_15944      web  2019-04-11  "
      ]
     },
     "execution_count": 4,
     "metadata": {},
     "output_type": "execute_result"
    }
   ],
   "source": [
    "df.head()"
   ]
  },
  {
   "cell_type": "code",
   "execution_count": null,
   "metadata": {},
   "outputs": [],
   "source": []
  },
  {
   "cell_type": "code",
   "execution_count": 5,
   "metadata": {},
   "outputs": [
    {
     "data": {
      "text/plain": [
       "2019-04-11    18259\n",
       "2019-04-13    10999\n",
       "2019-04-12    10740\n",
       "2019-04-08     8902\n",
       "2019-04-14     8656\n",
       "2019-04-09     7963\n",
       "2019-04-16     7766\n",
       "2019-04-15     7457\n",
       "2019-04-10     7098\n",
       "2019-04-03     5357\n",
       "2019-04-05     5305\n",
       "2019-04-02     5269\n",
       "2019-04-01     5172\n",
       "2019-04-04     5108\n",
       "2019-04-07     4091\n",
       "2019-04-06     3955\n",
       "Name: date, dtype: int64"
      ]
     },
     "execution_count": 5,
     "metadata": {},
     "output_type": "execute_result"
    }
   ],
   "source": [
    "df['date'].value_counts()"
   ]
  },
  {
   "cell_type": "code",
   "execution_count": 6,
   "metadata": {},
   "outputs": [],
   "source": [
    "df2 = df.groupby(['date'])['time'].count()"
   ]
  },
  {
   "cell_type": "code",
   "execution_count": 7,
   "metadata": {},
   "outputs": [
    {
     "data": {
      "text/plain": [
       "date\n",
       "2019-04-01     5172\n",
       "2019-04-02     5269\n",
       "2019-04-03     5357\n",
       "2019-04-04     5108\n",
       "2019-04-05     5305\n",
       "2019-04-06     3955\n",
       "2019-04-07     4091\n",
       "2019-04-08     8902\n",
       "2019-04-09     7963\n",
       "2019-04-10     7098\n",
       "2019-04-11    18259\n",
       "2019-04-12    10740\n",
       "2019-04-13    10999\n",
       "2019-04-14     8656\n",
       "2019-04-15     7457\n",
       "2019-04-16     7766\n",
       "Name: time, dtype: int64"
      ]
     },
     "execution_count": 7,
     "metadata": {},
     "output_type": "execute_result"
    }
   ],
   "source": [
    "df2.head(50)"
   ]
  },
  {
   "cell_type": "code",
   "execution_count": 8,
   "metadata": {},
   "outputs": [
    {
     "data": {
      "text/plain": [
       "<matplotlib.axes._subplots.AxesSubplot at 0xbd49e90>"
      ]
     },
     "execution_count": 8,
     "metadata": {},
     "output_type": "execute_result"
    }
   ],
   "source": [
    "df2.plot(x='date')"
   ]
  },
  {
   "cell_type": "code",
   "execution_count": 9,
   "metadata": {},
   "outputs": [
    {
     "data": {
      "text/plain": [
       "<matplotlib.axes._subplots.AxesSubplot at 0xc000b30>"
      ]
     },
     "execution_count": 9,
     "metadata": {},
     "output_type": "execute_result"
    },
    {
     "data": {
      "image/png": "[encoded data removed]",
      "text/plain": [
       "<Figure size 432x288 with 1 Axes>"
      ]
     },
     "metadata": {
      "needs_background": "light"
     },
     "output_type": "display_data"
    }
   ],
   "source": [
    "df2.hist()"
   ]
  },
  {
   "cell_type": "code",
   "execution_count": 10,
   "metadata": {},
   "outputs": [
    {
     "data": {
      "text/plain": [
       "<matplotlib.axes._subplots.AxesSubplot at 0xc1cf4b0>"
      ]
     },
     "execution_count": 10,
     "metadata": {},
     "output_type": "execute_result"
    },
    {
     "data": {
      "image/png": "[encoded data removed]",
      "text/plain": [
       "<Figure size 432x288 with 1 Axes>"
      ]
     },
     "metadata": {
      "needs_background": "light"
     },
     "output_type": "display_data"
    }
   ],
   "source": [
    "df2.plot(kind='kde')"
   ]
  },
  {
   "cell_type": "code",
   "execution_count": 11,
   "metadata": {},
   "outputs": [
    {
     "data": {
      "text/html": [
       "<div>\n",
       "<style scoped>\n",
       "    .dataframe tbody tr th:only-of-type {\n",
       "        vertical-align: middle;\n",
       "    }\n",
       "\n",
       "    .dataframe tbody tr th {\n",
       "        vertical-align: top;\n",
       "    }\n",
       "\n",
       "    .dataframe thead th {\n",
       "        text-align: right;\n",
       "    }\n",
       "</style>\n",
       "<table border=\"1\" class=\"dataframe\">\n",
       "  <thead>\n",
       "    <tr style=\"text-align: right;\">\n",
       "      <th></th>\n",
       "      <th></th>\n",
       "      <th>time</th>\n",
       "      <th>ad_cost_type</th>\n",
       "      <th>has_video</th>\n",
       "      <th>agency_union_id</th>\n",
       "      <th>client_union_id</th>\n",
       "      <th>campaign_union_id</th>\n",
       "      <th>ad_id</th>\n",
       "      <th>platform</th>\n",
       "    </tr>\n",
       "    <tr>\n",
       "      <th>date</th>\n",
       "      <th>event</th>\n",
       "      <th></th>\n",
       "      <th></th>\n",
       "      <th></th>\n",
       "      <th></th>\n",
       "      <th></th>\n",
       "      <th></th>\n",
       "      <th></th>\n",
       "      <th></th>\n",
       "    </tr>\n",
       "  </thead>\n",
       "  <tbody>\n",
       "    <tr>\n",
       "      <th rowspan=\"3\" valign=\"top\">2019-04-01</th>\n",
       "      <th>click</th>\n",
       "      <td>1827</td>\n",
       "      <td>1827</td>\n",
       "      <td>1827</td>\n",
       "      <td>1827</td>\n",
       "      <td>1827</td>\n",
       "      <td>1827</td>\n",
       "      <td>1827</td>\n",
       "      <td>1827</td>\n",
       "    </tr>\n",
       "    <tr>\n",
       "      <th>report</th>\n",
       "      <td>362</td>\n",
       "      <td>362</td>\n",
       "      <td>362</td>\n",
       "      <td>362</td>\n",
       "      <td>362</td>\n",
       "      <td>362</td>\n",
       "      <td>362</td>\n",
       "      <td>362</td>\n",
       "    </tr>\n",
       "    <tr>\n",
       "      <th>view</th>\n",
       "      <td>2983</td>\n",
       "      <td>2983</td>\n",
       "      <td>2983</td>\n",
       "      <td>2983</td>\n",
       "      <td>2983</td>\n",
       "      <td>2983</td>\n",
       "      <td>2983</td>\n",
       "      <td>2983</td>\n",
       "    </tr>\n",
       "    <tr>\n",
       "      <th rowspan=\"2\" valign=\"top\">2019-04-02</th>\n",
       "      <th>click</th>\n",
       "      <td>1898</td>\n",
       "      <td>1898</td>\n",
       "      <td>1898</td>\n",
       "      <td>1898</td>\n",
       "      <td>1898</td>\n",
       "      <td>1898</td>\n",
       "      <td>1898</td>\n",
       "      <td>1898</td>\n",
       "    </tr>\n",
       "    <tr>\n",
       "      <th>report</th>\n",
       "      <td>366</td>\n",
       "      <td>366</td>\n",
       "      <td>366</td>\n",
       "      <td>366</td>\n",
       "      <td>366</td>\n",
       "      <td>366</td>\n",
       "      <td>366</td>\n",
       "      <td>366</td>\n",
       "    </tr>\n",
       "  </tbody>\n",
       "</table>\n",
       "</div>"
      ],
      "text/plain": [
       "                   time  ad_cost_type  has_video  agency_union_id  \\\n",
       "date       event                                                    \n",
       "2019-04-01 click   1827          1827       1827             1827   \n",
       "           report   362           362        362              362   \n",
       "           view    2983          2983       2983             2983   \n",
       "2019-04-02 click   1898          1898       1898             1898   \n",
       "           report   366           366        366              366   \n",
       "\n",
       "                   client_union_id  campaign_union_id  ad_id  platform  \n",
       "date       event                                                        \n",
       "2019-04-01 click              1827               1827   1827      1827  \n",
       "           report              362                362    362       362  \n",
       "           view               2983               2983   2983      2983  \n",
       "2019-04-02 click              1898               1898   1898      1898  \n",
       "           report              366                366    366       366  "
      ]
     },
     "execution_count": 11,
     "metadata": {},
     "output_type": "execute_result"
    }
   ],
   "source": [
    "df.groupby(['date','event']).count().head()"
   ]
  },
  {
   "cell_type": "code",
   "execution_count": 12,
   "metadata": {},
   "outputs": [
    {
     "data": {
      "text/html": [
       "<div>\n",
       "<style scoped>\n",
       "    .dataframe tbody tr th:only-of-type {\n",
       "        vertical-align: middle;\n",
       "    }\n",
       "\n",
       "    .dataframe tbody tr th {\n",
       "        vertical-align: top;\n",
       "    }\n",
       "\n",
       "    .dataframe thead th {\n",
       "        text-align: right;\n",
       "    }\n",
       "</style>\n",
       "<table border=\"1\" class=\"dataframe\">\n",
       "  <thead>\n",
       "    <tr style=\"text-align: right;\">\n",
       "      <th></th>\n",
       "      <th></th>\n",
       "      <th>date</th>\n",
       "      <th>ad_id</th>\n",
       "    </tr>\n",
       "    <tr>\n",
       "      <th>date</th>\n",
       "      <th>ad_id</th>\n",
       "      <th></th>\n",
       "      <th></th>\n",
       "    </tr>\n",
       "  </thead>\n",
       "  <tbody>\n",
       "    <tr>\n",
       "      <th rowspan=\"5\" valign=\"top\">2019-04-01</th>\n",
       "      <th>ad_1</th>\n",
       "      <td>2019-04-01</td>\n",
       "      <td>9</td>\n",
       "    </tr>\n",
       "    <tr>\n",
       "      <th>ad_10008</th>\n",
       "      <td>2019-04-01</td>\n",
       "      <td>1</td>\n",
       "    </tr>\n",
       "    <tr>\n",
       "      <th>ad_10010</th>\n",
       "      <td>2019-04-01</td>\n",
       "      <td>1</td>\n",
       "    </tr>\n",
       "    <tr>\n",
       "      <th>ad_100220</th>\n",
       "      <td>2019-04-01</td>\n",
       "      <td>24</td>\n",
       "    </tr>\n",
       "    <tr>\n",
       "      <th>ad_10032</th>\n",
       "      <td>2019-04-01</td>\n",
       "      <td>2</td>\n",
       "    </tr>\n",
       "  </tbody>\n",
       "</table>\n",
       "</div>"
      ],
      "text/plain": [
       "                            date  ad_id\n",
       "date       ad_id                       \n",
       "2019-04-01 ad_1       2019-04-01      9\n",
       "           ad_10008   2019-04-01      1\n",
       "           ad_10010   2019-04-01      1\n",
       "           ad_100220  2019-04-01     24\n",
       "           ad_10032   2019-04-01      2"
      ]
     },
     "execution_count": 12,
     "metadata": {},
     "output_type": "execute_result"
    }
   ],
   "source": [
    "df.groupby(['date','ad_id']).agg({'date':'first','ad_id':'count'}).head()"
   ]
  },
  {
   "cell_type": "code",
   "execution_count": 13,
   "metadata": {},
   "outputs": [
    {
     "data": {
      "text/html": [
       "<div>\n",
       "<style scoped>\n",
       "    .dataframe tbody tr th:only-of-type {\n",
       "        vertical-align: middle;\n",
       "    }\n",
       "\n",
       "    .dataframe tbody tr th {\n",
       "        vertical-align: top;\n",
       "    }\n",
       "\n",
       "    .dataframe thead th {\n",
       "        text-align: right;\n",
       "    }\n",
       "</style>\n",
       "<table border=\"1\" class=\"dataframe\">\n",
       "  <thead>\n",
       "    <tr style=\"text-align: right;\">\n",
       "      <th></th>\n",
       "      <th>date</th>\n",
       "    </tr>\n",
       "    <tr>\n",
       "      <th>ad_id</th>\n",
       "      <th></th>\n",
       "    </tr>\n",
       "  </thead>\n",
       "  <tbody>\n",
       "    <tr>\n",
       "      <th>ad_1</th>\n",
       "      <td>123</td>\n",
       "    </tr>\n",
       "    <tr>\n",
       "      <th>ad_10003</th>\n",
       "      <td>5</td>\n",
       "    </tr>\n",
       "    <tr>\n",
       "      <th>ad_10008</th>\n",
       "      <td>2</td>\n",
       "    </tr>\n",
       "    <tr>\n",
       "      <th>ad_10010</th>\n",
       "      <td>1</td>\n",
       "    </tr>\n",
       "    <tr>\n",
       "      <th>ad_10011</th>\n",
       "      <td>1</td>\n",
       "    </tr>\n",
       "  </tbody>\n",
       "</table>\n",
       "</div>"
      ],
      "text/plain": [
       "          date\n",
       "ad_id         \n",
       "ad_1       123\n",
       "ad_10003     5\n",
       "ad_10008     2\n",
       "ad_10010     1\n",
       "ad_10011     1"
      ]
     },
     "execution_count": 13,
     "metadata": {},
     "output_type": "execute_result"
    }
   ],
   "source": [
    "df.groupby(['ad_id']).agg({'date':'count'}).head()"
   ]
  },
  {
   "cell_type": "code",
   "execution_count": 19,
   "metadata": {},
   "outputs": [
    {
     "data": {
      "text/html": [
       "<div>\n",
       "<style scoped>\n",
       "    .dataframe tbody tr th:only-of-type {\n",
       "        vertical-align: middle;\n",
       "    }\n",
       "\n",
       "    .dataframe tbody tr th {\n",
       "        vertical-align: top;\n",
       "    }\n",
       "\n",
       "    .dataframe thead th {\n",
       "        text-align: right;\n",
       "    }\n",
       "</style>\n",
       "<table border=\"1\" class=\"dataframe\">\n",
       "  <thead>\n",
       "    <tr style=\"text-align: right;\">\n",
       "      <th></th>\n",
       "      <th></th>\n",
       "      <th>date</th>\n",
       "      <th>event</th>\n",
       "    </tr>\n",
       "    <tr>\n",
       "      <th>date</th>\n",
       "      <th>event</th>\n",
       "      <th></th>\n",
       "      <th></th>\n",
       "    </tr>\n",
       "  </thead>\n",
       "  <tbody>\n",
       "    <tr>\n",
       "      <th rowspan=\"3\" valign=\"top\">2019-04-01</th>\n",
       "      <th>click</th>\n",
       "      <td>2019-04-01</td>\n",
       "      <td>1827</td>\n",
       "    </tr>\n",
       "    <tr>\n",
       "      <th>report</th>\n",
       "      <td>2019-04-01</td>\n",
       "      <td>362</td>\n",
       "    </tr>\n",
       "    <tr>\n",
       "      <th>view</th>\n",
       "      <td>2019-04-01</td>\n",
       "      <td>2983</td>\n",
       "    </tr>\n",
       "    <tr>\n",
       "      <th rowspan=\"2\" valign=\"top\">2019-04-02</th>\n",
       "      <th>click</th>\n",
       "      <td>2019-04-02</td>\n",
       "      <td>1898</td>\n",
       "    </tr>\n",
       "    <tr>\n",
       "      <th>report</th>\n",
       "      <td>2019-04-02</td>\n",
       "      <td>366</td>\n",
       "    </tr>\n",
       "  </tbody>\n",
       "</table>\n",
       "</div>"
      ],
      "text/plain": [
       "                         date  event\n",
       "date       event                    \n",
       "2019-04-01 click   2019-04-01   1827\n",
       "           report  2019-04-01    362\n",
       "           view    2019-04-01   2983\n",
       "2019-04-02 click   2019-04-02   1898\n",
       "           report  2019-04-02    366"
      ]
     },
     "execution_count": 19,
     "metadata": {},
     "output_type": "execute_result"
    }
   ],
   "source": [
    "df.groupby(['date','event']).agg({'date':'first','event':'count'}).head()"
   ]
  },
  {
   "cell_type": "code",
   "execution_count": 20,
   "metadata": {},
   "outputs": [
    {
     "data": {
      "text/html": [
       "<div>\n",
       "<style scoped>\n",
       "    .dataframe tbody tr th:only-of-type {\n",
       "        vertical-align: middle;\n",
       "    }\n",
       "\n",
       "    .dataframe tbody tr th {\n",
       "        vertical-align: top;\n",
       "    }\n",
       "\n",
       "    .dataframe thead th {\n",
       "        text-align: right;\n",
       "    }\n",
       "</style>\n",
       "<table border=\"1\" class=\"dataframe\">\n",
       "  <thead>\n",
       "    <tr style=\"text-align: right;\">\n",
       "      <th></th>\n",
       "      <th>date</th>\n",
       "      <th>event</th>\n",
       "    </tr>\n",
       "    <tr>\n",
       "      <th>date</th>\n",
       "      <th></th>\n",
       "      <th></th>\n",
       "    </tr>\n",
       "  </thead>\n",
       "  <tbody>\n",
       "    <tr>\n",
       "      <th>2019-04-01</th>\n",
       "      <td>2019-04-01</td>\n",
       "      <td>5172</td>\n",
       "    </tr>\n",
       "    <tr>\n",
       "      <th>2019-04-02</th>\n",
       "      <td>2019-04-02</td>\n",
       "      <td>5269</td>\n",
       "    </tr>\n",
       "    <tr>\n",
       "      <th>2019-04-03</th>\n",
       "      <td>2019-04-03</td>\n",
       "      <td>5357</td>\n",
       "    </tr>\n",
       "    <tr>\n",
       "      <th>2019-04-04</th>\n",
       "      <td>2019-04-04</td>\n",
       "      <td>5108</td>\n",
       "    </tr>\n",
       "    <tr>\n",
       "      <th>2019-04-05</th>\n",
       "      <td>2019-04-05</td>\n",
       "      <td>5305</td>\n",
       "    </tr>\n",
       "  </tbody>\n",
       "</table>\n",
       "</div>"
      ],
      "text/plain": [
       "                  date  event\n",
       "date                         \n",
       "2019-04-01  2019-04-01   5172\n",
       "2019-04-02  2019-04-02   5269\n",
       "2019-04-03  2019-04-03   5357\n",
       "2019-04-04  2019-04-04   5108\n",
       "2019-04-05  2019-04-05   5305"
      ]
     },
     "execution_count": 20,
     "metadata": {},
     "output_type": "execute_result"
    }
   ],
   "source": [
    "df.groupby(['date']).agg({'date':'first','event':'count'}).head()"
   ]
  },
  {
   "cell_type": "code",
   "execution_count": 48,
   "metadata": {},
   "outputs": [],
   "source": [
    "df5=df.groupby(['ad_id'])['date'].nunique()"
   ]
  },
  {
   "cell_type": "code",
   "execution_count": 49,
   "metadata": {},
   "outputs": [
    {
     "data": {
      "text/plain": [
       "<matplotlib.axes._subplots.AxesSubplot at 0x11b9b7d0>"
      ]
     },
     "execution_count": 49,
     "metadata": {},
     "output_type": "execute_result"
    },
    {
     "data": {
      "image/png": "[encoded data removed]",
      "text/plain": [
       "<Figure size 432x288 with 1 Axes>"
      ]
     },
     "metadata": {
      "needs_background": "light"
     },
     "output_type": "display_data"
    }
   ],
   "source": [
    "df5.hist()"
   ]
  },
  {
   "cell_type": "code",
   "execution_count": 54,
   "metadata": {},
   "outputs": [
    {
     "data": {
      "text/plain": [
       "18049"
      ]
     },
     "execution_count": 54,
     "metadata": {},
     "output_type": "execute_result"
    }
   ],
   "source": [
    "df['ad_id'].nunique()"
   ]
  },
  {
   "cell_type": "code",
   "execution_count": 56,
   "metadata": {},
   "outputs": [],
   "source": [
    "df6=df.groupby(['date'])['ad_id'].nunique()"
   ]
  },
  {
   "cell_type": "code",
   "execution_count": 63,
   "metadata": {},
   "outputs": [
    {
     "data": {
      "text/plain": [
       "<matplotlib.axes._subplots.AxesSubplot at 0x11c98f70>"
      ]
     },
     "execution_count": 63,
     "metadata": {},
     "output_type": "execute_result"
    },
    {
     "data": {
      "image/png": "[encoded data removed]",
      "text/plain": [
       "<Figure size 432x288 with 1 Axes>"
      ]
     },
     "metadata": {
      "needs_background": "light"
     },
     "output_type": "display_data"
    }
   ],
   "source": [
    "df6.hist()"
   ]
  },
  {
   "cell_type": "code",
   "execution_count": 65,
   "metadata": {},
   "outputs": [
    {
     "data": {
      "text/plain": [
       "date\n",
       "2019-04-01    2155\n",
       "2019-04-02    2285\n",
       "2019-04-03    2366\n",
       "2019-04-04    2353\n",
       "2019-04-05    2177\n",
       "2019-04-06    1969\n",
       "2019-04-07    1962\n",
       "2019-04-08    2034\n",
       "2019-04-09    2282\n",
       "2019-04-10    2360\n",
       "2019-04-11    2136\n",
       "2019-04-12    2037\n",
       "2019-04-13    1781\n",
       "2019-04-14    1779\n",
       "2019-04-15    1990\n",
       "2019-04-16    2323\n",
       "Name: ad_id, dtype: int64"
      ]
     },
     "execution_count": 65,
     "metadata": {},
     "output_type": "execute_result"
    }
   ],
   "source": [
    "df6"
   ]
  },
  {
   "cell_type": "code",
   "execution_count": 154,
   "metadata": {},
   "outputs": [],
   "source": [
    "df_total =df.groupby(['date','event']).agg({'date':'first','event':'first','ad_id':'count'})"
   ]
  },
  {
   "cell_type": "code",
   "execution_count": 155,
   "metadata": {},
   "outputs": [
    {
     "data": {
      "text/html": [
       "<div>\n",
       "<style scoped>\n",
       "    .dataframe tbody tr th:only-of-type {\n",
       "        vertical-align: middle;\n",
       "    }\n",
       "\n",
       "    .dataframe tbody tr th {\n",
       "        vertical-align: top;\n",
       "    }\n",
       "\n",
       "    .dataframe thead th {\n",
       "        text-align: right;\n",
       "    }\n",
       "</style>\n",
       "<table border=\"1\" class=\"dataframe\">\n",
       "  <thead>\n",
       "    <tr style=\"text-align: right;\">\n",
       "      <th></th>\n",
       "      <th></th>\n",
       "      <th>date</th>\n",
       "      <th>event</th>\n",
       "      <th>ad_id</th>\n",
       "    </tr>\n",
       "    <tr>\n",
       "      <th>date</th>\n",
       "      <th>event</th>\n",
       "      <th></th>\n",
       "      <th></th>\n",
       "      <th></th>\n",
       "    </tr>\n",
       "  </thead>\n",
       "  <tbody>\n",
       "    <tr>\n",
       "      <th rowspan=\"3\" valign=\"top\">2019-04-01</th>\n",
       "      <th>click</th>\n",
       "      <td>2019-04-01</td>\n",
       "      <td>click</td>\n",
       "      <td>1827</td>\n",
       "    </tr>\n",
       "    <tr>\n",
       "      <th>report</th>\n",
       "      <td>2019-04-01</td>\n",
       "      <td>report</td>\n",
       "      <td>362</td>\n",
       "    </tr>\n",
       "    <tr>\n",
       "      <th>view</th>\n",
       "      <td>2019-04-01</td>\n",
       "      <td>view</td>\n",
       "      <td>2983</td>\n",
       "    </tr>\n",
       "    <tr>\n",
       "      <th rowspan=\"2\" valign=\"top\">2019-04-02</th>\n",
       "      <th>click</th>\n",
       "      <td>2019-04-02</td>\n",
       "      <td>click</td>\n",
       "      <td>1898</td>\n",
       "    </tr>\n",
       "    <tr>\n",
       "      <th>report</th>\n",
       "      <td>2019-04-02</td>\n",
       "      <td>report</td>\n",
       "      <td>366</td>\n",
       "    </tr>\n",
       "  </tbody>\n",
       "</table>\n",
       "</div>"
      ],
      "text/plain": [
       "                         date   event  ad_id\n",
       "date       event                            \n",
       "2019-04-01 click   2019-04-01   click   1827\n",
       "           report  2019-04-01  report    362\n",
       "           view    2019-04-01    view   2983\n",
       "2019-04-02 click   2019-04-02   click   1898\n",
       "           report  2019-04-02  report    366"
      ]
     },
     "execution_count": 155,
     "metadata": {},
     "output_type": "execute_result"
    }
   ],
   "source": [
    "df_total.head()"
   ]
  },
  {
   "cell_type": "code",
   "execution_count": 156,
   "metadata": {},
   "outputs": [
    {
     "data": {
      "text/plain": [
       "<matplotlib.axes._subplots.AxesSubplot at 0x12ac4e70>"
      ]
     },
     "execution_count": 156,
     "metadata": {},
     "output_type": "execute_result"
    },
    {
     "data": {
      "image/png": "[encoded data removed]",
      "text/plain": [
       "<Figure size 432x288 with 1 Axes>"
      ]
     },
     "metadata": {
      "needs_background": "light"
     },
     "output_type": "display_data"
    }
   ],
   "source": [
    "ax = df_total[df_total.event=='view'].plot()\n",
    "df_total[df_total.event=='click'].plot(ax=ax)\n",
    "df_total[df_total.event=='report'].plot(ax=ax)"
   ]
  },
  {
   "cell_type": "code",
   "execution_count": 124,
   "metadata": {},
   "outputs": [],
   "source": [
    "df_unique =df.groupby(['date','event']).agg({'date':'first','event':'first','ad_id':'nunique'})"
   ]
  },
  {
   "cell_type": "code",
   "execution_count": 127,
   "metadata": {},
   "outputs": [
    {
     "data": {
      "text/html": [
       "<div>\n",
       "<style scoped>\n",
       "    .dataframe tbody tr th:only-of-type {\n",
       "        vertical-align: middle;\n",
       "    }\n",
       "\n",
       "    .dataframe tbody tr th {\n",
       "        vertical-align: top;\n",
       "    }\n",
       "\n",
       "    .dataframe thead th {\n",
       "        text-align: right;\n",
       "    }\n",
       "</style>\n",
       "<table border=\"1\" class=\"dataframe\">\n",
       "  <thead>\n",
       "    <tr style=\"text-align: right;\">\n",
       "      <th></th>\n",
       "      <th></th>\n",
       "      <th>date</th>\n",
       "      <th>event</th>\n",
       "      <th>ad_id</th>\n",
       "    </tr>\n",
       "    <tr>\n",
       "      <th>date</th>\n",
       "      <th>event</th>\n",
       "      <th></th>\n",
       "      <th></th>\n",
       "      <th></th>\n",
       "    </tr>\n",
       "  </thead>\n",
       "  <tbody>\n",
       "    <tr>\n",
       "      <th rowspan=\"3\" valign=\"top\">2019-04-01</th>\n",
       "      <th>click</th>\n",
       "      <td>2019-04-01</td>\n",
       "      <td>click</td>\n",
       "      <td>1091</td>\n",
       "    </tr>\n",
       "    <tr>\n",
       "      <th>report</th>\n",
       "      <td>2019-04-01</td>\n",
       "      <td>report</td>\n",
       "      <td>289</td>\n",
       "    </tr>\n",
       "    <tr>\n",
       "      <th>view</th>\n",
       "      <td>2019-04-01</td>\n",
       "      <td>view</td>\n",
       "      <td>928</td>\n",
       "    </tr>\n",
       "    <tr>\n",
       "      <th rowspan=\"2\" valign=\"top\">2019-04-02</th>\n",
       "      <th>click</th>\n",
       "      <td>2019-04-02</td>\n",
       "      <td>click</td>\n",
       "      <td>1152</td>\n",
       "    </tr>\n",
       "    <tr>\n",
       "      <th>report</th>\n",
       "      <td>2019-04-02</td>\n",
       "      <td>report</td>\n",
       "      <td>301</td>\n",
       "    </tr>\n",
       "  </tbody>\n",
       "</table>\n",
       "</div>"
      ],
      "text/plain": [
       "                         date   event  ad_id\n",
       "date       event                            \n",
       "2019-04-01 click   2019-04-01   click   1091\n",
       "           report  2019-04-01  report    289\n",
       "           view    2019-04-01    view    928\n",
       "2019-04-02 click   2019-04-02   click   1152\n",
       "           report  2019-04-02  report    301"
      ]
     },
     "execution_count": 127,
     "metadata": {},
     "output_type": "execute_result"
    }
   ],
   "source": [
    "df_unique.head()"
   ]
  },
  {
   "cell_type": "code",
   "execution_count": 116,
   "metadata": {},
   "outputs": [
    {
     "data": {
      "text/plain": [
       "<matplotlib.axes._subplots.AxesSubplot at 0x12879070>"
      ]
     },
     "execution_count": 116,
     "metadata": {},
     "output_type": "execute_result"
    },
    {
     "data": {
      "image/png": "[encoded data removed]",
      "text/plain": [
       "<Figure size 432x288 with 1 Axes>"
      ]
     },
     "metadata": {
      "needs_background": "light"
     },
     "output_type": "display_data"
    }
   ],
   "source": [
    "ax = df_unique[df_unique.event=='view'].plot()\n",
    "df_unique[df_unique.event=='click'].plot(ax=ax)\n",
    "df_unique[df_unique.event=='report'].plot(ax=ax)"
   ]
  },
  {
   "cell_type": "code",
   "execution_count": 157,
   "metadata": {},
   "outputs": [],
   "source": [
    "df_total_vid1 =df[df.has_video==1].groupby(['date']).agg({'date':'first','ad_id':'count'})\n",
    "df_total_vid0 =df[df.has_video==0].groupby(['date']).agg({'date':'first','ad_id':'count'})"
   ]
  },
  {
   "cell_type": "code",
   "execution_count": 158,
   "metadata": {},
   "outputs": [
    {
     "data": {
      "text/html": [
       "<div>\n",
       "<style scoped>\n",
       "    .dataframe tbody tr th:only-of-type {\n",
       "        vertical-align: middle;\n",
       "    }\n",
       "\n",
       "    .dataframe tbody tr th {\n",
       "        vertical-align: top;\n",
       "    }\n",
       "\n",
       "    .dataframe thead th {\n",
       "        text-align: right;\n",
       "    }\n",
       "</style>\n",
       "<table border=\"1\" class=\"dataframe\">\n",
       "  <thead>\n",
       "    <tr style=\"text-align: right;\">\n",
       "      <th></th>\n",
       "      <th>date</th>\n",
       "      <th>ad_id</th>\n",
       "    </tr>\n",
       "    <tr>\n",
       "      <th>date</th>\n",
       "      <th></th>\n",
       "      <th></th>\n",
       "    </tr>\n",
       "  </thead>\n",
       "  <tbody>\n",
       "    <tr>\n",
       "      <th>2019-04-01</th>\n",
       "      <td>2019-04-01</td>\n",
       "      <td>60</td>\n",
       "    </tr>\n",
       "    <tr>\n",
       "      <th>2019-04-02</th>\n",
       "      <td>2019-04-02</td>\n",
       "      <td>53</td>\n",
       "    </tr>\n",
       "    <tr>\n",
       "      <th>2019-04-03</th>\n",
       "      <td>2019-04-03</td>\n",
       "      <td>52</td>\n",
       "    </tr>\n",
       "    <tr>\n",
       "      <th>2019-04-04</th>\n",
       "      <td>2019-04-04</td>\n",
       "      <td>55</td>\n",
       "    </tr>\n",
       "    <tr>\n",
       "      <th>2019-04-05</th>\n",
       "      <td>2019-04-05</td>\n",
       "      <td>44</td>\n",
       "    </tr>\n",
       "  </tbody>\n",
       "</table>\n",
       "</div>"
      ],
      "text/plain": [
       "                  date  ad_id\n",
       "date                         \n",
       "2019-04-01  2019-04-01     60\n",
       "2019-04-02  2019-04-02     53\n",
       "2019-04-03  2019-04-03     52\n",
       "2019-04-04  2019-04-04     55\n",
       "2019-04-05  2019-04-05     44"
      ]
     },
     "execution_count": 158,
     "metadata": {},
     "output_type": "execute_result"
    }
   ],
   "source": [
    "df_total_vid1.head()"
   ]
  },
  {
   "cell_type": "code",
   "execution_count": 160,
   "metadata": {},
   "outputs": [
    {
     "data": {
      "text/plain": [
       "<matplotlib.axes._subplots.AxesSubplot at 0xf7a3f30>"
      ]
     },
     "execution_count": 160,
     "metadata": {},
     "output_type": "execute_result"
    },
    {
     "data": {
      "image/png": "[encoded data removed]",
      "text/plain": [
       "<Figure size 432x288 with 1 Axes>"
      ]
     },
     "metadata": {
      "needs_background": "light"
     },
     "output_type": "display_data"
    }
   ],
   "source": [
    "ax=df_total_vid1.plot()\n",
    "df_total_vid0.plot(ax=ax)"
   ]
  },
  {
   "cell_type": "code",
   "execution_count": 166,
   "metadata": {},
   "outputs": [],
   "source": [
    "df_X = df[df.event=='view'].groupby('ad_id')['ad_cost_type','agency_union_id','client_union_id','campaign_union_id','platform']"
   ]
  },
  {
   "cell_type": "code",
   "execution_count": 167,
   "metadata": {},
   "outputs": [
    {
     "data": {
      "text/html": [
       "<div>\n",
       "<style scoped>\n",
       "    .dataframe tbody tr th:only-of-type {\n",
       "        vertical-align: middle;\n",
       "    }\n",
       "\n",
       "    .dataframe tbody tr th {\n",
       "        vertical-align: top;\n",
       "    }\n",
       "\n",
       "    .dataframe thead th {\n",
       "        text-align: right;\n",
       "    }\n",
       "</style>\n",
       "<table border=\"1\" class=\"dataframe\">\n",
       "  <thead>\n",
       "    <tr style=\"text-align: right;\">\n",
       "      <th></th>\n",
       "      <th>ad_cost_type</th>\n",
       "      <th>agency_union_id</th>\n",
       "      <th>client_union_id</th>\n",
       "      <th>campaign_union_id</th>\n",
       "      <th>platform</th>\n",
       "    </tr>\n",
       "  </thead>\n",
       "  <tbody>\n",
       "    <tr>\n",
       "      <th>5</th>\n",
       "      <td>CPC</td>\n",
       "      <td>no_agency</td>\n",
       "      <td>client_265</td>\n",
       "      <td>campaign_13516</td>\n",
       "      <td>android</td>\n",
       "    </tr>\n",
       "    <tr>\n",
       "      <th>7</th>\n",
       "      <td>CPM</td>\n",
       "      <td>agency_155</td>\n",
       "      <td>client_105617</td>\n",
       "      <td>campaign_106015</td>\n",
       "      <td>iphone</td>\n",
       "    </tr>\n",
       "    <tr>\n",
       "      <th>8</th>\n",
       "      <td>CPM</td>\n",
       "      <td>no_agency</td>\n",
       "      <td>client_264</td>\n",
       "      <td>campaign_13491</td>\n",
       "      <td>android</td>\n",
       "    </tr>\n",
       "    <tr>\n",
       "      <th>9</th>\n",
       "      <td>CPM</td>\n",
       "      <td>no_agency</td>\n",
       "      <td>client_1728</td>\n",
       "      <td>campaign_19254</td>\n",
       "      <td>android</td>\n",
       "    </tr>\n",
       "    <tr>\n",
       "      <th>10</th>\n",
       "      <td>CPC</td>\n",
       "      <td>agency_2</td>\n",
       "      <td>client_47270</td>\n",
       "      <td>campaign_49554</td>\n",
       "      <td>web</td>\n",
       "    </tr>\n",
       "    <tr>\n",
       "      <th>11</th>\n",
       "      <td>CPC</td>\n",
       "      <td>agency_2</td>\n",
       "      <td>client_47270</td>\n",
       "      <td>campaign_49554</td>\n",
       "      <td>android</td>\n",
       "    </tr>\n",
       "    <tr>\n",
       "      <th>12</th>\n",
       "      <td>CPM</td>\n",
       "      <td>no_agency</td>\n",
       "      <td>client_40</td>\n",
       "      <td>campaign_5131</td>\n",
       "      <td>android</td>\n",
       "    </tr>\n",
       "    <tr>\n",
       "      <th>13</th>\n",
       "      <td>CPC</td>\n",
       "      <td>agency_53</td>\n",
       "      <td>client_102535</td>\n",
       "      <td>campaign_102537</td>\n",
       "      <td>iphone</td>\n",
       "    </tr>\n",
       "    <tr>\n",
       "      <th>14</th>\n",
       "      <td>CPC</td>\n",
       "      <td>agency_2</td>\n",
       "      <td>client_47270</td>\n",
       "      <td>campaign_49554</td>\n",
       "      <td>android</td>\n",
       "    </tr>\n",
       "    <tr>\n",
       "      <th>15</th>\n",
       "      <td>CPC</td>\n",
       "      <td>agency_181</td>\n",
       "      <td>client_108681</td>\n",
       "      <td>campaign_108712</td>\n",
       "      <td>android</td>\n",
       "    </tr>\n",
       "    <tr>\n",
       "      <th>16</th>\n",
       "      <td>CPC</td>\n",
       "      <td>agency_2</td>\n",
       "      <td>client_47269</td>\n",
       "      <td>campaign_47269</td>\n",
       "      <td>android</td>\n",
       "    </tr>\n",
       "    <tr>\n",
       "      <th>18</th>\n",
       "      <td>CPM</td>\n",
       "      <td>no_agency</td>\n",
       "      <td>client_647</td>\n",
       "      <td>campaign_16172</td>\n",
       "      <td>iphone</td>\n",
       "    </tr>\n",
       "    <tr>\n",
       "      <th>19</th>\n",
       "      <td>CPC</td>\n",
       "      <td>agency_2</td>\n",
       "      <td>client_47270</td>\n",
       "      <td>campaign_49554</td>\n",
       "      <td>android</td>\n",
       "    </tr>\n",
       "    <tr>\n",
       "      <th>20</th>\n",
       "      <td>CPC</td>\n",
       "      <td>agency_2</td>\n",
       "      <td>client_47270</td>\n",
       "      <td>campaign_49554</td>\n",
       "      <td>android</td>\n",
       "    </tr>\n",
       "    <tr>\n",
       "      <th>22</th>\n",
       "      <td>CPC</td>\n",
       "      <td>agency_2</td>\n",
       "      <td>client_47270</td>\n",
       "      <td>campaign_49554</td>\n",
       "      <td>android</td>\n",
       "    </tr>\n",
       "    <tr>\n",
       "      <th>23</th>\n",
       "      <td>CPC</td>\n",
       "      <td>agency_2</td>\n",
       "      <td>client_47270</td>\n",
       "      <td>campaign_49554</td>\n",
       "      <td>android</td>\n",
       "    </tr>\n",
       "    <tr>\n",
       "      <th>25</th>\n",
       "      <td>CPC</td>\n",
       "      <td>agency_2</td>\n",
       "      <td>client_47270</td>\n",
       "      <td>campaign_49554</td>\n",
       "      <td>android</td>\n",
       "    </tr>\n",
       "    <tr>\n",
       "      <th>28</th>\n",
       "      <td>CPC</td>\n",
       "      <td>no_agency</td>\n",
       "      <td>client_42</td>\n",
       "      <td>campaign_5821</td>\n",
       "      <td>iphone</td>\n",
       "    </tr>\n",
       "    <tr>\n",
       "      <th>29</th>\n",
       "      <td>CPM</td>\n",
       "      <td>no_agency</td>\n",
       "      <td>client_27</td>\n",
       "      <td>campaign_4101</td>\n",
       "      <td>android</td>\n",
       "    </tr>\n",
       "    <tr>\n",
       "      <th>30</th>\n",
       "      <td>CPC</td>\n",
       "      <td>no_agency</td>\n",
       "      <td>client_63</td>\n",
       "      <td>campaign_9137</td>\n",
       "      <td>android</td>\n",
       "    </tr>\n",
       "    <tr>\n",
       "      <th>31</th>\n",
       "      <td>CPC</td>\n",
       "      <td>agency_29</td>\n",
       "      <td>client_99239</td>\n",
       "      <td>campaign_99245</td>\n",
       "      <td>iphone</td>\n",
       "    </tr>\n",
       "    <tr>\n",
       "      <th>32</th>\n",
       "      <td>CPC</td>\n",
       "      <td>agency_33</td>\n",
       "      <td>client_99583</td>\n",
       "      <td>campaign_99718</td>\n",
       "      <td>android</td>\n",
       "    </tr>\n",
       "    <tr>\n",
       "      <th>33</th>\n",
       "      <td>CPM</td>\n",
       "      <td>agency_496</td>\n",
       "      <td>client_111307</td>\n",
       "      <td>campaign_111310</td>\n",
       "      <td>web</td>\n",
       "    </tr>\n",
       "    <tr>\n",
       "      <th>34</th>\n",
       "      <td>CPC</td>\n",
       "      <td>agency_2</td>\n",
       "      <td>client_47269</td>\n",
       "      <td>campaign_47269</td>\n",
       "      <td>android</td>\n",
       "    </tr>\n",
       "    <tr>\n",
       "      <th>35</th>\n",
       "      <td>CPC</td>\n",
       "      <td>agency_2</td>\n",
       "      <td>client_47270</td>\n",
       "      <td>campaign_49554</td>\n",
       "      <td>android</td>\n",
       "    </tr>\n",
       "    <tr>\n",
       "      <th>36</th>\n",
       "      <td>CPC</td>\n",
       "      <td>agency_1187</td>\n",
       "      <td>client_115276</td>\n",
       "      <td>campaign_115497</td>\n",
       "      <td>iphone</td>\n",
       "    </tr>\n",
       "    <tr>\n",
       "      <th>37</th>\n",
       "      <td>CPC</td>\n",
       "      <td>no_agency</td>\n",
       "      <td>client_120</td>\n",
       "      <td>campaign_10586</td>\n",
       "      <td>android</td>\n",
       "    </tr>\n",
       "    <tr>\n",
       "      <th>39</th>\n",
       "      <td>CPM</td>\n",
       "      <td>agency_158</td>\n",
       "      <td>client_106189</td>\n",
       "      <td>campaign_106230</td>\n",
       "      <td>iphone</td>\n",
       "    </tr>\n",
       "    <tr>\n",
       "      <th>41</th>\n",
       "      <td>CPC</td>\n",
       "      <td>no_agency</td>\n",
       "      <td>client_2034</td>\n",
       "      <td>campaign_19964</td>\n",
       "      <td>web</td>\n",
       "    </tr>\n",
       "    <tr>\n",
       "      <th>42</th>\n",
       "      <td>CPM</td>\n",
       "      <td>no_agency</td>\n",
       "      <td>client_47</td>\n",
       "      <td>campaign_7519</td>\n",
       "      <td>web</td>\n",
       "    </tr>\n",
       "    <tr>\n",
       "      <th>...</th>\n",
       "      <td>...</td>\n",
       "      <td>...</td>\n",
       "      <td>...</td>\n",
       "      <td>...</td>\n",
       "      <td>...</td>\n",
       "    </tr>\n",
       "    <tr>\n",
       "      <th>121607</th>\n",
       "      <td>CPM</td>\n",
       "      <td>agency_155</td>\n",
       "      <td>client_105608</td>\n",
       "      <td>campaign_105672</td>\n",
       "      <td>android</td>\n",
       "    </tr>\n",
       "    <tr>\n",
       "      <th>121639</th>\n",
       "      <td>CPM</td>\n",
       "      <td>agency_2327</td>\n",
       "      <td>client_118116</td>\n",
       "      <td>campaign_118116</td>\n",
       "      <td>android</td>\n",
       "    </tr>\n",
       "    <tr>\n",
       "      <th>121647</th>\n",
       "      <td>CPM</td>\n",
       "      <td>agency_606</td>\n",
       "      <td>client_113036</td>\n",
       "      <td>campaign_113055</td>\n",
       "      <td>android</td>\n",
       "    </tr>\n",
       "    <tr>\n",
       "      <th>121652</th>\n",
       "      <td>CPC</td>\n",
       "      <td>no_agency</td>\n",
       "      <td>client_967</td>\n",
       "      <td>campaign_17067</td>\n",
       "      <td>iphone</td>\n",
       "    </tr>\n",
       "    <tr>\n",
       "      <th>121657</th>\n",
       "      <td>CPC</td>\n",
       "      <td>agency_694</td>\n",
       "      <td>client_113632</td>\n",
       "      <td>campaign_113735</td>\n",
       "      <td>android</td>\n",
       "    </tr>\n",
       "    <tr>\n",
       "      <th>121666</th>\n",
       "      <td>CPM</td>\n",
       "      <td>no_agency</td>\n",
       "      <td>client_15465</td>\n",
       "      <td>campaign_26477</td>\n",
       "      <td>android</td>\n",
       "    </tr>\n",
       "    <tr>\n",
       "      <th>121674</th>\n",
       "      <td>CPM</td>\n",
       "      <td>agency_77</td>\n",
       "      <td>client_103782</td>\n",
       "      <td>campaign_104284</td>\n",
       "      <td>android</td>\n",
       "    </tr>\n",
       "    <tr>\n",
       "      <th>121676</th>\n",
       "      <td>CPC</td>\n",
       "      <td>no_agency</td>\n",
       "      <td>client_14935</td>\n",
       "      <td>campaign_26293</td>\n",
       "      <td>android</td>\n",
       "    </tr>\n",
       "    <tr>\n",
       "      <th>121683</th>\n",
       "      <td>CPC</td>\n",
       "      <td>agency_1821</td>\n",
       "      <td>client_117406</td>\n",
       "      <td>campaign_117408</td>\n",
       "      <td>android</td>\n",
       "    </tr>\n",
       "    <tr>\n",
       "      <th>121744</th>\n",
       "      <td>CPM</td>\n",
       "      <td>agency_543</td>\n",
       "      <td>client_111799</td>\n",
       "      <td>campaign_112117</td>\n",
       "      <td>android</td>\n",
       "    </tr>\n",
       "    <tr>\n",
       "      <th>121770</th>\n",
       "      <td>CPM</td>\n",
       "      <td>no_agency</td>\n",
       "      <td>client_500</td>\n",
       "      <td>campaign_15209</td>\n",
       "      <td>android</td>\n",
       "    </tr>\n",
       "    <tr>\n",
       "      <th>121777</th>\n",
       "      <td>CPC</td>\n",
       "      <td>no_agency</td>\n",
       "      <td>client_14286</td>\n",
       "      <td>campaign_26179</td>\n",
       "      <td>web</td>\n",
       "    </tr>\n",
       "    <tr>\n",
       "      <th>121798</th>\n",
       "      <td>CPM</td>\n",
       "      <td>agency_475</td>\n",
       "      <td>client_110848</td>\n",
       "      <td>campaign_110891</td>\n",
       "      <td>android</td>\n",
       "    </tr>\n",
       "    <tr>\n",
       "      <th>121837</th>\n",
       "      <td>CPM</td>\n",
       "      <td>agency_1652</td>\n",
       "      <td>client_117074</td>\n",
       "      <td>campaign_117076</td>\n",
       "      <td>iphone</td>\n",
       "    </tr>\n",
       "    <tr>\n",
       "      <th>121838</th>\n",
       "      <td>CPM</td>\n",
       "      <td>agency_543</td>\n",
       "      <td>client_111799</td>\n",
       "      <td>campaign_112116</td>\n",
       "      <td>android</td>\n",
       "    </tr>\n",
       "    <tr>\n",
       "      <th>121862</th>\n",
       "      <td>CPM</td>\n",
       "      <td>no_agency</td>\n",
       "      <td>client_261</td>\n",
       "      <td>campaign_13474</td>\n",
       "      <td>android</td>\n",
       "    </tr>\n",
       "    <tr>\n",
       "      <th>121863</th>\n",
       "      <td>CPC</td>\n",
       "      <td>no_agency</td>\n",
       "      <td>client_3507</td>\n",
       "      <td>campaign_22404</td>\n",
       "      <td>android</td>\n",
       "    </tr>\n",
       "    <tr>\n",
       "      <th>121877</th>\n",
       "      <td>CPC</td>\n",
       "      <td>agency_3278</td>\n",
       "      <td>client_118715</td>\n",
       "      <td>campaign_118715</td>\n",
       "      <td>android</td>\n",
       "    </tr>\n",
       "    <tr>\n",
       "      <th>121880</th>\n",
       "      <td>CPM</td>\n",
       "      <td>agency_2170</td>\n",
       "      <td>client_117712</td>\n",
       "      <td>campaign_117712</td>\n",
       "      <td>android</td>\n",
       "    </tr>\n",
       "    <tr>\n",
       "      <th>121900</th>\n",
       "      <td>CPM</td>\n",
       "      <td>agency_123</td>\n",
       "      <td>client_104848</td>\n",
       "      <td>campaign_105060</td>\n",
       "      <td>iphone</td>\n",
       "    </tr>\n",
       "    <tr>\n",
       "      <th>121909</th>\n",
       "      <td>CPM</td>\n",
       "      <td>no_agency</td>\n",
       "      <td>client_278</td>\n",
       "      <td>campaign_13682</td>\n",
       "      <td>iphone</td>\n",
       "    </tr>\n",
       "    <tr>\n",
       "      <th>121912</th>\n",
       "      <td>CPM</td>\n",
       "      <td>agency_543</td>\n",
       "      <td>client_111789</td>\n",
       "      <td>campaign_111794</td>\n",
       "      <td>iphone</td>\n",
       "    </tr>\n",
       "    <tr>\n",
       "      <th>121913</th>\n",
       "      <td>CPM</td>\n",
       "      <td>no_agency</td>\n",
       "      <td>client_4033</td>\n",
       "      <td>campaign_22618</td>\n",
       "      <td>iphone</td>\n",
       "    </tr>\n",
       "    <tr>\n",
       "      <th>121932</th>\n",
       "      <td>CPC</td>\n",
       "      <td>no_agency</td>\n",
       "      <td>client_64</td>\n",
       "      <td>campaign_9197</td>\n",
       "      <td>android</td>\n",
       "    </tr>\n",
       "    <tr>\n",
       "      <th>121937</th>\n",
       "      <td>CPM</td>\n",
       "      <td>no_agency</td>\n",
       "      <td>client_1752</td>\n",
       "      <td>campaign_19309</td>\n",
       "      <td>android</td>\n",
       "    </tr>\n",
       "    <tr>\n",
       "      <th>121948</th>\n",
       "      <td>CPM</td>\n",
       "      <td>agency_112</td>\n",
       "      <td>client_104695</td>\n",
       "      <td>campaign_104695</td>\n",
       "      <td>iphone</td>\n",
       "    </tr>\n",
       "    <tr>\n",
       "      <th>121989</th>\n",
       "      <td>CPM</td>\n",
       "      <td>agency_11</td>\n",
       "      <td>client_98436</td>\n",
       "      <td>campaign_98938</td>\n",
       "      <td>android</td>\n",
       "    </tr>\n",
       "    <tr>\n",
       "      <th>122044</th>\n",
       "      <td>CPM</td>\n",
       "      <td>no_agency</td>\n",
       "      <td>client_1415</td>\n",
       "      <td>campaign_18176</td>\n",
       "      <td>android</td>\n",
       "    </tr>\n",
       "    <tr>\n",
       "      <th>122058</th>\n",
       "      <td>CPM</td>\n",
       "      <td>no_agency</td>\n",
       "      <td>client_17124</td>\n",
       "      <td>campaign_26827</td>\n",
       "      <td>android</td>\n",
       "    </tr>\n",
       "    <tr>\n",
       "      <th>122073</th>\n",
       "      <td>CPM</td>\n",
       "      <td>agency_77</td>\n",
       "      <td>client_103928</td>\n",
       "      <td>campaign_104336</td>\n",
       "      <td>android</td>\n",
       "    </tr>\n",
       "  </tbody>\n",
       "</table>\n",
       "<p>14580 rows × 5 columns</p>\n",
       "</div>"
      ],
      "text/plain": [
       "       ad_cost_type agency_union_id client_union_id campaign_union_id platform\n",
       "5               CPC       no_agency      client_265    campaign_13516  android\n",
       "7               CPM      agency_155   client_105617   campaign_106015   iphone\n",
       "8               CPM       no_agency      client_264    campaign_13491  android\n",
       "9               CPM       no_agency     client_1728    campaign_19254  android\n",
       "10              CPC        agency_2    client_47270    campaign_49554      web\n",
       "11              CPC        agency_2    client_47270    campaign_49554  android\n",
       "12              CPM       no_agency       client_40     campaign_5131  android\n",
       "13              CPC       agency_53   client_102535   campaign_102537   iphone\n",
       "14              CPC        agency_2    client_47270    campaign_49554  android\n",
       "15              CPC      agency_181   client_108681   campaign_108712  android\n",
       "16              CPC        agency_2    client_47269    campaign_47269  android\n",
       "18              CPM       no_agency      client_647    campaign_16172   iphone\n",
       "19              CPC        agency_2    client_47270    campaign_49554  android\n",
       "20              CPC        agency_2    client_47270    campaign_49554  android\n",
       "22              CPC        agency_2    client_47270    campaign_49554  android\n",
       "23              CPC        agency_2    client_47270    campaign_49554  android\n",
       "25              CPC        agency_2    client_47270    campaign_49554  android\n",
       "28              CPC       no_agency       client_42     campaign_5821   iphone\n",
       "29              CPM       no_agency       client_27     campaign_4101  android\n",
       "30              CPC       no_agency       client_63     campaign_9137  android\n",
       "31              CPC       agency_29    client_99239    campaign_99245   iphone\n",
       "32              CPC       agency_33    client_99583    campaign_99718  android\n",
       "33              CPM      agency_496   client_111307   campaign_111310      web\n",
       "34              CPC        agency_2    client_47269    campaign_47269  android\n",
       "35              CPC        agency_2    client_47270    campaign_49554  android\n",
       "36              CPC     agency_1187   client_115276   campaign_115497   iphone\n",
       "37              CPC       no_agency      client_120    campaign_10586  android\n",
       "39              CPM      agency_158   client_106189   campaign_106230   iphone\n",
       "41              CPC       no_agency     client_2034    campaign_19964      web\n",
       "42              CPM       no_agency       client_47     campaign_7519      web\n",
       "...             ...             ...             ...               ...      ...\n",
       "121607          CPM      agency_155   client_105608   campaign_105672  android\n",
       "121639          CPM     agency_2327   client_118116   campaign_118116  android\n",
       "121647          CPM      agency_606   client_113036   campaign_113055  android\n",
       "121652          CPC       no_agency      client_967    campaign_17067   iphone\n",
       "121657          CPC      agency_694   client_113632   campaign_113735  android\n",
       "121666          CPM       no_agency    client_15465    campaign_26477  android\n",
       "121674          CPM       agency_77   client_103782   campaign_104284  android\n",
       "121676          CPC       no_agency    client_14935    campaign_26293  android\n",
       "121683          CPC     agency_1821   client_117406   campaign_117408  android\n",
       "121744          CPM      agency_543   client_111799   campaign_112117  android\n",
       "121770          CPM       no_agency      client_500    campaign_15209  android\n",
       "121777          CPC       no_agency    client_14286    campaign_26179      web\n",
       "121798          CPM      agency_475   client_110848   campaign_110891  android\n",
       "121837          CPM     agency_1652   client_117074   campaign_117076   iphone\n",
       "121838          CPM      agency_543   client_111799   campaign_112116  android\n",
       "121862          CPM       no_agency      client_261    campaign_13474  android\n",
       "121863          CPC       no_agency     client_3507    campaign_22404  android\n",
       "121877          CPC     agency_3278   client_118715   campaign_118715  android\n",
       "121880          CPM     agency_2170   client_117712   campaign_117712  android\n",
       "121900          CPM      agency_123   client_104848   campaign_105060   iphone\n",
       "121909          CPM       no_agency      client_278    campaign_13682   iphone\n",
       "121912          CPM      agency_543   client_111789   campaign_111794   iphone\n",
       "121913          CPM       no_agency     client_4033    campaign_22618   iphone\n",
       "121932          CPC       no_agency       client_64     campaign_9197  android\n",
       "121937          CPM       no_agency     client_1752    campaign_19309  android\n",
       "121948          CPM      agency_112   client_104695   campaign_104695   iphone\n",
       "121989          CPM       agency_11    client_98436    campaign_98938  android\n",
       "122044          CPM       no_agency     client_1415    campaign_18176  android\n",
       "122058          CPM       no_agency    client_17124    campaign_26827  android\n",
       "122073          CPM       agency_77   client_103928   campaign_104336  android\n",
       "\n",
       "[14580 rows x 5 columns]"
      ]
     },
     "execution_count": 167,
     "metadata": {},
     "output_type": "execute_result"
    }
   ],
   "source": [
    "df_X.head()"
   ]
  },
  {
   "cell_type": "code",
   "execution_count": 211,
   "metadata": {},
   "outputs": [],
   "source": [
    "views_df = df[df.event=='view'].groupby('ad_id').agg({'ad_id':'max','ad_id':'count'})"
   ]
  },
  {
   "cell_type": "code",
   "execution_count": 213,
   "metadata": {},
   "outputs": [
    {
     "data": {
      "text/plain": [
       "array([[<matplotlib.axes._subplots.AxesSubplot object at 0x128DE3B0>]],\n",
       "      dtype=object)"
      ]
     },
     "execution_count": 213,
     "metadata": {},
     "output_type": "execute_result"
    },
    {
     "data": {
      "image/png": "[encoded data removed]",
      "text/plain": [
       "<Figure size 432x288 with 1 Axes>"
      ]
     },
     "metadata": {
      "needs_background": "light"
     },
     "output_type": "display_data"
    }
   ],
   "source": [
    "views_df.hist()"
   ]
  },
  {
   "cell_type": "code",
   "execution_count": 214,
   "metadata": {},
   "outputs": [],
   "source": [
    "views=views_df.ad_id"
   ]
  },
  {
   "cell_type": "code",
   "execution_count": 215,
   "metadata": {},
   "outputs": [
    {
     "data": {
      "text/plain": [
       "ad_id\n",
       "ad_49554     27464\n",
       "ad_49556      8215\n",
       "ad_49560      7489\n",
       "ad_49564      4486\n",
       "ad_47269      1866\n",
       "ad_99643       576\n",
       "ad_7701        557\n",
       "ad_387         461\n",
       "ad_1181        441\n",
       "ad_49136       418\n",
       "ad_5131        396\n",
       "ad_8339        375\n",
       "ad_97427       357\n",
       "ad_6308        346\n",
       "ad_6302        342\n",
       "ad_3024        335\n",
       "ad_388         329\n",
       "ad_101396      326\n",
       "ad_100220      247\n",
       "ad_1182        244\n",
       "ad_103781      235\n",
       "ad_5132        206\n",
       "ad_102864      202\n",
       "ad_6304        194\n",
       "ad_10361       181\n",
       "ad_106256      174\n",
       "ad_99303       173\n",
       "ad_3021        170\n",
       "ad_2852        168\n",
       "ad_108837      153\n",
       "             ...  \n",
       "ad_25349         1\n",
       "ad_11934         1\n",
       "ad_119334        1\n",
       "ad_25352         1\n",
       "ad_25380         1\n",
       "ad_119300        1\n",
       "ad_119246        1\n",
       "ad_119465        1\n",
       "ad_119466        1\n",
       "ad_119467        1\n",
       "ad_119523        1\n",
       "ad_25311         1\n",
       "ad_25319         1\n",
       "ad_119626        1\n",
       "ad_119606        1\n",
       "ad_25320         1\n",
       "ad_119591        1\n",
       "ad_25323         1\n",
       "ad_119526        1\n",
       "ad_119522        1\n",
       "ad_119468        1\n",
       "ad_119512        1\n",
       "ad_119503        1\n",
       "ad_119502        1\n",
       "ad_119492        1\n",
       "ad_119491        1\n",
       "ad_119490        1\n",
       "ad_25332         1\n",
       "ad_119469        1\n",
       "ad_13297         1\n",
       "Name: ad_id, Length: 5558, dtype: int64"
      ]
     },
     "execution_count": 215,
     "metadata": {},
     "output_type": "execute_result"
    }
   ],
   "source": [
    "views.sort_values(ascending=False)"
   ]
  },
  {
   "cell_type": "code",
   "execution_count": 216,
   "metadata": {},
   "outputs": [
    {
     "data": {
      "text/plain": [
       "5558"
      ]
     },
     "execution_count": 216,
     "metadata": {},
     "output_type": "execute_result"
    }
   ],
   "source": [
    "views_df.size"
   ]
  },
  {
   "cell_type": "code",
   "execution_count": 218,
   "metadata": {},
   "outputs": [
    {
     "data": {
      "text/plain": [
       "2266"
      ]
     },
     "execution_count": 218,
     "metadata": {},
     "output_type": "execute_result"
    }
   ],
   "source": [
    "views_df[views_df.ad_id==1].size"
   ]
  },
  {
   "cell_type": "code",
   "execution_count": 223,
   "metadata": {},
   "outputs": [
    {
     "data": {
      "text/plain": [
       "3244"
      ]
     },
     "execution_count": 223,
     "metadata": {},
     "output_type": "execute_result"
    }
   ],
   "source": [
    "views_df[(views_df.ad_id>1) & (views_df.ad_id<100)].size"
   ]
  },
  {
   "cell_type": "code",
   "execution_count": 224,
   "metadata": {},
   "outputs": [
    {
     "data": {
      "text/plain": [
       "48"
      ]
     },
     "execution_count": 224,
     "metadata": {},
     "output_type": "execute_result"
    }
   ],
   "source": [
    "views_df[(views_df.ad_id>100) & (views_df.ad_id<100000)].size"
   ]
  },
  {
   "cell_type": "code",
   "execution_count": 255,
   "metadata": {},
   "outputs": [
    {
     "name": "stderr",
     "output_type": "stream",
     "text": [
      "c:\\program files (x86)\\python36-32\\lib\\site-packages\\pandas\\core\\groupby\\generic.py:1315: FutureWarning: using a dict with renaming is deprecated and will be removed in a future version\n",
      "  return super(DataFrameGroupBy, self).aggregate(arg, *args, **kwargs)\n"
     ]
    }
   ],
   "source": [
    "df001 = df[df.event=='view'].groupby('ad_id').agg({'ad_id':{'ad_id_cnt':'count'}})"
   ]
  },
  {
   "cell_type": "code",
   "execution_count": 256,
   "metadata": {},
   "outputs": [
    {
     "data": {
      "text/html": [
       "<div>\n",
       "<style scoped>\n",
       "    .dataframe tbody tr th:only-of-type {\n",
       "        vertical-align: middle;\n",
       "    }\n",
       "\n",
       "    .dataframe tbody tr th {\n",
       "        vertical-align: top;\n",
       "    }\n",
       "\n",
       "    .dataframe thead tr th {\n",
       "        text-align: left;\n",
       "    }\n",
       "\n",
       "    .dataframe thead tr:last-of-type th {\n",
       "        text-align: right;\n",
       "    }\n",
       "</style>\n",
       "<table border=\"1\" class=\"dataframe\">\n",
       "  <thead>\n",
       "    <tr>\n",
       "      <th></th>\n",
       "      <th>ad_id</th>\n",
       "    </tr>\n",
       "    <tr>\n",
       "      <th></th>\n",
       "      <th>ad_id_cnt</th>\n",
       "    </tr>\n",
       "    <tr>\n",
       "      <th>ad_id</th>\n",
       "      <th></th>\n",
       "    </tr>\n",
       "  </thead>\n",
       "  <tbody>\n",
       "    <tr>\n",
       "      <th>ad_1</th>\n",
       "      <td>123</td>\n",
       "    </tr>\n",
       "    <tr>\n",
       "      <th>ad_10003</th>\n",
       "      <td>5</td>\n",
       "    </tr>\n",
       "    <tr>\n",
       "      <th>ad_10008</th>\n",
       "      <td>2</td>\n",
       "    </tr>\n",
       "    <tr>\n",
       "      <th>ad_10010</th>\n",
       "      <td>1</td>\n",
       "    </tr>\n",
       "    <tr>\n",
       "      <th>ad_10011</th>\n",
       "      <td>1</td>\n",
       "    </tr>\n",
       "  </tbody>\n",
       "</table>\n",
       "</div>"
      ],
      "text/plain": [
       "             ad_id\n",
       "         ad_id_cnt\n",
       "ad_id             \n",
       "ad_1           123\n",
       "ad_10003         5\n",
       "ad_10008         2\n",
       "ad_10010         1\n",
       "ad_10011         1"
      ]
     },
     "execution_count": 256,
     "metadata": {},
     "output_type": "execute_result"
    }
   ],
   "source": [
    "df001.head()"
   ]
  },
  {
   "cell_type": "code",
   "execution_count": 257,
   "metadata": {},
   "outputs": [],
   "source": [
    "df001.columns=df001.columns.droplevel(0)"
   ]
  },
  {
   "cell_type": "code",
   "execution_count": 258,
   "metadata": {},
   "outputs": [],
   "source": [
    "df001=df001.reset_index()"
   ]
  },
  {
   "cell_type": "code",
   "execution_count": 259,
   "metadata": {},
   "outputs": [
    {
     "data": {
      "text/html": [
       "<div>\n",
       "<style scoped>\n",
       "    .dataframe tbody tr th:only-of-type {\n",
       "        vertical-align: middle;\n",
       "    }\n",
       "\n",
       "    .dataframe tbody tr th {\n",
       "        vertical-align: top;\n",
       "    }\n",
       "\n",
       "    .dataframe thead th {\n",
       "        text-align: right;\n",
       "    }\n",
       "</style>\n",
       "<table border=\"1\" class=\"dataframe\">\n",
       "  <thead>\n",
       "    <tr style=\"text-align: right;\">\n",
       "      <th></th>\n",
       "      <th>ad_id</th>\n",
       "      <th>ad_id_cnt</th>\n",
       "    </tr>\n",
       "  </thead>\n",
       "  <tbody>\n",
       "    <tr>\n",
       "      <th>0</th>\n",
       "      <td>ad_1</td>\n",
       "      <td>123</td>\n",
       "    </tr>\n",
       "    <tr>\n",
       "      <th>1</th>\n",
       "      <td>ad_10003</td>\n",
       "      <td>5</td>\n",
       "    </tr>\n",
       "    <tr>\n",
       "      <th>2</th>\n",
       "      <td>ad_10008</td>\n",
       "      <td>2</td>\n",
       "    </tr>\n",
       "    <tr>\n",
       "      <th>3</th>\n",
       "      <td>ad_10010</td>\n",
       "      <td>1</td>\n",
       "    </tr>\n",
       "    <tr>\n",
       "      <th>4</th>\n",
       "      <td>ad_10011</td>\n",
       "      <td>1</td>\n",
       "    </tr>\n",
       "  </tbody>\n",
       "</table>\n",
       "</div>"
      ],
      "text/plain": [
       "      ad_id  ad_id_cnt\n",
       "0      ad_1        123\n",
       "1  ad_10003          5\n",
       "2  ad_10008          2\n",
       "3  ad_10010          1\n",
       "4  ad_10011          1"
      ]
     },
     "execution_count": 259,
     "metadata": {},
     "output_type": "execute_result"
    }
   ],
   "source": [
    "df001.head()"
   ]
  },
  {
   "cell_type": "code",
   "execution_count": 329,
   "metadata": {},
   "outputs": [],
   "source": [
    "df002=df001[df001.ad_id_cnt >100]"
   ]
  },
  {
   "cell_type": "code",
   "execution_count": 330,
   "metadata": {},
   "outputs": [
    {
     "data": {
      "text/plain": [
       "96"
      ]
     },
     "execution_count": 330,
     "metadata": {},
     "output_type": "execute_result"
    }
   ],
   "source": [
    "df002.size"
   ]
  },
  {
   "cell_type": "code",
   "execution_count": 331,
   "metadata": {},
   "outputs": [
    {
     "data": {
      "text/html": [
       "<div>\n",
       "<style scoped>\n",
       "    .dataframe tbody tr th:only-of-type {\n",
       "        vertical-align: middle;\n",
       "    }\n",
       "\n",
       "    .dataframe tbody tr th {\n",
       "        vertical-align: top;\n",
       "    }\n",
       "\n",
       "    .dataframe thead th {\n",
       "        text-align: right;\n",
       "    }\n",
       "</style>\n",
       "<table border=\"1\" class=\"dataframe\">\n",
       "  <thead>\n",
       "    <tr style=\"text-align: right;\">\n",
       "      <th></th>\n",
       "      <th>ad_id</th>\n",
       "      <th>ad_id_cnt</th>\n",
       "    </tr>\n",
       "  </thead>\n",
       "  <tbody>\n",
       "    <tr>\n",
       "      <th>5047</th>\n",
       "      <td>ad_49554</td>\n",
       "      <td>27464</td>\n",
       "    </tr>\n",
       "    <tr>\n",
       "      <th>5048</th>\n",
       "      <td>ad_49556</td>\n",
       "      <td>8215</td>\n",
       "    </tr>\n",
       "    <tr>\n",
       "      <th>5049</th>\n",
       "      <td>ad_49560</td>\n",
       "      <td>7489</td>\n",
       "    </tr>\n",
       "    <tr>\n",
       "      <th>5050</th>\n",
       "      <td>ad_49564</td>\n",
       "      <td>4486</td>\n",
       "    </tr>\n",
       "    <tr>\n",
       "      <th>5020</th>\n",
       "      <td>ad_47269</td>\n",
       "      <td>1866</td>\n",
       "    </tr>\n",
       "    <tr>\n",
       "      <th>5555</th>\n",
       "      <td>ad_99643</td>\n",
       "      <td>576</td>\n",
       "    </tr>\n",
       "    <tr>\n",
       "      <th>5151</th>\n",
       "      <td>ad_7701</td>\n",
       "      <td>557</td>\n",
       "    </tr>\n",
       "    <tr>\n",
       "      <th>4918</th>\n",
       "      <td>ad_387</td>\n",
       "      <td>461</td>\n",
       "    </tr>\n",
       "    <tr>\n",
       "      <th>2143</th>\n",
       "      <td>ad_1181</td>\n",
       "      <td>441</td>\n",
       "    </tr>\n",
       "    <tr>\n",
       "      <th>5038</th>\n",
       "      <td>ad_49136</td>\n",
       "      <td>418</td>\n",
       "    </tr>\n",
       "    <tr>\n",
       "      <th>5082</th>\n",
       "      <td>ad_5131</td>\n",
       "      <td>396</td>\n",
       "    </tr>\n",
       "    <tr>\n",
       "      <th>5168</th>\n",
       "      <td>ad_8339</td>\n",
       "      <td>375</td>\n",
       "    </tr>\n",
       "    <tr>\n",
       "      <th>5285</th>\n",
       "      <td>ad_97427</td>\n",
       "      <td>357</td>\n",
       "    </tr>\n",
       "    <tr>\n",
       "      <th>5103</th>\n",
       "      <td>ad_6308</td>\n",
       "      <td>346</td>\n",
       "    </tr>\n",
       "    <tr>\n",
       "      <th>5100</th>\n",
       "      <td>ad_6302</td>\n",
       "      <td>342</td>\n",
       "    </tr>\n",
       "    <tr>\n",
       "      <th>4896</th>\n",
       "      <td>ad_3024</td>\n",
       "      <td>335</td>\n",
       "    </tr>\n",
       "    <tr>\n",
       "      <th>4921</th>\n",
       "      <td>ad_388</td>\n",
       "      <td>329</td>\n",
       "    </tr>\n",
       "    <tr>\n",
       "      <th>76</th>\n",
       "      <td>ad_101396</td>\n",
       "      <td>326</td>\n",
       "    </tr>\n",
       "    <tr>\n",
       "      <th>7</th>\n",
       "      <td>ad_100220</td>\n",
       "      <td>247</td>\n",
       "    </tr>\n",
       "    <tr>\n",
       "      <th>2170</th>\n",
       "      <td>ad_1182</td>\n",
       "      <td>244</td>\n",
       "    </tr>\n",
       "    <tr>\n",
       "      <th>310</th>\n",
       "      <td>ad_103781</td>\n",
       "      <td>235</td>\n",
       "    </tr>\n",
       "    <tr>\n",
       "      <th>5083</th>\n",
       "      <td>ad_5132</td>\n",
       "      <td>206</td>\n",
       "    </tr>\n",
       "    <tr>\n",
       "      <th>242</th>\n",
       "      <td>ad_102864</td>\n",
       "      <td>202</td>\n",
       "    </tr>\n",
       "    <tr>\n",
       "      <th>5101</th>\n",
       "      <td>ad_6304</td>\n",
       "      <td>194</td>\n",
       "    </tr>\n",
       "    <tr>\n",
       "      <th>283</th>\n",
       "      <td>ad_10361</td>\n",
       "      <td>181</td>\n",
       "    </tr>\n",
       "    <tr>\n",
       "      <th>648</th>\n",
       "      <td>ad_106256</td>\n",
       "      <td>174</td>\n",
       "    </tr>\n",
       "    <tr>\n",
       "      <th>5531</th>\n",
       "      <td>ad_99303</td>\n",
       "      <td>173</td>\n",
       "    </tr>\n",
       "    <tr>\n",
       "      <th>4895</th>\n",
       "      <td>ad_3021</td>\n",
       "      <td>170</td>\n",
       "    </tr>\n",
       "    <tr>\n",
       "      <th>4890</th>\n",
       "      <td>ad_2852</td>\n",
       "      <td>168</td>\n",
       "    </tr>\n",
       "    <tr>\n",
       "      <th>792</th>\n",
       "      <td>ad_108837</td>\n",
       "      <td>153</td>\n",
       "    </tr>\n",
       "    <tr>\n",
       "      <th>1968</th>\n",
       "      <td>ad_11647</td>\n",
       "      <td>149</td>\n",
       "    </tr>\n",
       "    <tr>\n",
       "      <th>246</th>\n",
       "      <td>ad_102873</td>\n",
       "      <td>142</td>\n",
       "    </tr>\n",
       "    <tr>\n",
       "      <th>5294</th>\n",
       "      <td>ad_97803</td>\n",
       "      <td>141</td>\n",
       "    </tr>\n",
       "    <tr>\n",
       "      <th>529</th>\n",
       "      <td>ad_105218</td>\n",
       "      <td>136</td>\n",
       "    </tr>\n",
       "    <tr>\n",
       "      <th>5281</th>\n",
       "      <td>ad_97293</td>\n",
       "      <td>134</td>\n",
       "    </tr>\n",
       "    <tr>\n",
       "      <th>245</th>\n",
       "      <td>ad_102868</td>\n",
       "      <td>132</td>\n",
       "    </tr>\n",
       "    <tr>\n",
       "      <th>29</th>\n",
       "      <td>ad_100768</td>\n",
       "      <td>129</td>\n",
       "    </tr>\n",
       "    <tr>\n",
       "      <th>797</th>\n",
       "      <td>ad_109047</td>\n",
       "      <td>128</td>\n",
       "    </tr>\n",
       "    <tr>\n",
       "      <th>5090</th>\n",
       "      <td>ad_5822</td>\n",
       "      <td>128</td>\n",
       "    </tr>\n",
       "    <tr>\n",
       "      <th>0</th>\n",
       "      <td>ad_1</td>\n",
       "      <td>123</td>\n",
       "    </tr>\n",
       "    <tr>\n",
       "      <th>531</th>\n",
       "      <td>ad_105360</td>\n",
       "      <td>113</td>\n",
       "    </tr>\n",
       "    <tr>\n",
       "      <th>33</th>\n",
       "      <td>ad_100920</td>\n",
       "      <td>110</td>\n",
       "    </tr>\n",
       "    <tr>\n",
       "      <th>4897</th>\n",
       "      <td>ad_3025</td>\n",
       "      <td>109</td>\n",
       "    </tr>\n",
       "    <tr>\n",
       "      <th>2770</th>\n",
       "      <td>ad_14315</td>\n",
       "      <td>106</td>\n",
       "    </tr>\n",
       "    <tr>\n",
       "      <th>2642</th>\n",
       "      <td>ad_13320</td>\n",
       "      <td>104</td>\n",
       "    </tr>\n",
       "    <tr>\n",
       "      <th>15</th>\n",
       "      <td>ad_100506</td>\n",
       "      <td>104</td>\n",
       "    </tr>\n",
       "    <tr>\n",
       "      <th>311</th>\n",
       "      <td>ad_104016</td>\n",
       "      <td>102</td>\n",
       "    </tr>\n",
       "    <tr>\n",
       "      <th>313</th>\n",
       "      <td>ad_104175</td>\n",
       "      <td>101</td>\n",
       "    </tr>\n",
       "  </tbody>\n",
       "</table>\n",
       "</div>"
      ],
      "text/plain": [
       "          ad_id  ad_id_cnt\n",
       "5047   ad_49554      27464\n",
       "5048   ad_49556       8215\n",
       "5049   ad_49560       7489\n",
       "5050   ad_49564       4486\n",
       "5020   ad_47269       1866\n",
       "5555   ad_99643        576\n",
       "5151    ad_7701        557\n",
       "4918     ad_387        461\n",
       "2143    ad_1181        441\n",
       "5038   ad_49136        418\n",
       "5082    ad_5131        396\n",
       "5168    ad_8339        375\n",
       "5285   ad_97427        357\n",
       "5103    ad_6308        346\n",
       "5100    ad_6302        342\n",
       "4896    ad_3024        335\n",
       "4921     ad_388        329\n",
       "76    ad_101396        326\n",
       "7     ad_100220        247\n",
       "2170    ad_1182        244\n",
       "310   ad_103781        235\n",
       "5083    ad_5132        206\n",
       "242   ad_102864        202\n",
       "5101    ad_6304        194\n",
       "283    ad_10361        181\n",
       "648   ad_106256        174\n",
       "5531   ad_99303        173\n",
       "4895    ad_3021        170\n",
       "4890    ad_2852        168\n",
       "792   ad_108837        153\n",
       "1968   ad_11647        149\n",
       "246   ad_102873        142\n",
       "5294   ad_97803        141\n",
       "529   ad_105218        136\n",
       "5281   ad_97293        134\n",
       "245   ad_102868        132\n",
       "29    ad_100768        129\n",
       "797   ad_109047        128\n",
       "5090    ad_5822        128\n",
       "0          ad_1        123\n",
       "531   ad_105360        113\n",
       "33    ad_100920        110\n",
       "4897    ad_3025        109\n",
       "2770   ad_14315        106\n",
       "2642   ad_13320        104\n",
       "15    ad_100506        104\n",
       "311   ad_104016        102\n",
       "313   ad_104175        101"
      ]
     },
     "execution_count": 331,
     "metadata": {},
     "output_type": "execute_result"
    }
   ],
   "source": [
    "df002.sort_values(by='ad_id_cnt',ascending=False)"
   ]
  },
  {
   "cell_type": "code",
   "execution_count": 332,
   "metadata": {},
   "outputs": [],
   "source": [
    "ids = df002.ad_id"
   ]
  },
  {
   "cell_type": "code",
   "execution_count": 333,
   "metadata": {},
   "outputs": [
    {
     "data": {
      "text/plain": [
       "array([[<matplotlib.axes._subplots.AxesSubplot object at 0x12712FD0>]],\n",
       "      dtype=object)"
      ]
     },
     "execution_count": 333,
     "metadata": {},
     "output_type": "execute_result"
    },
    {
     "data": {
      "image/png": "[encoded data removed]",
      "text/plain": [
       "<Figure size 432x288 with 1 Axes>"
      ]
     },
     "metadata": {
      "needs_background": "light"
     },
     "output_type": "display_data"
    }
   ],
   "source": [
    "df002.hist()"
   ]
  },
  {
   "cell_type": "code",
   "execution_count": 334,
   "metadata": {},
   "outputs": [],
   "source": [
    "df003=df[df.ad_id.isin(ids)].groupby(['date']).agg({'ad_id':'count'})"
   ]
  },
  {
   "cell_type": "code",
   "execution_count": 335,
   "metadata": {},
   "outputs": [
    {
     "data": {
      "text/html": [
       "<div>\n",
       "<style scoped>\n",
       "    .dataframe tbody tr th:only-of-type {\n",
       "        vertical-align: middle;\n",
       "    }\n",
       "\n",
       "    .dataframe tbody tr th {\n",
       "        vertical-align: top;\n",
       "    }\n",
       "\n",
       "    .dataframe thead th {\n",
       "        text-align: right;\n",
       "    }\n",
       "</style>\n",
       "<table border=\"1\" class=\"dataframe\">\n",
       "  <thead>\n",
       "    <tr style=\"text-align: right;\">\n",
       "      <th></th>\n",
       "      <th>ad_id</th>\n",
       "    </tr>\n",
       "    <tr>\n",
       "      <th>date</th>\n",
       "      <th></th>\n",
       "    </tr>\n",
       "  </thead>\n",
       "  <tbody>\n",
       "    <tr>\n",
       "      <th>2019-04-01</th>\n",
       "      <td>904</td>\n",
       "    </tr>\n",
       "    <tr>\n",
       "      <th>2019-04-02</th>\n",
       "      <td>836</td>\n",
       "    </tr>\n",
       "    <tr>\n",
       "      <th>2019-04-03</th>\n",
       "      <td>901</td>\n",
       "    </tr>\n",
       "    <tr>\n",
       "      <th>2019-04-04</th>\n",
       "      <td>790</td>\n",
       "    </tr>\n",
       "    <tr>\n",
       "      <th>2019-04-05</th>\n",
       "      <td>876</td>\n",
       "    </tr>\n",
       "    <tr>\n",
       "      <th>2019-04-06</th>\n",
       "      <td>491</td>\n",
       "    </tr>\n",
       "    <tr>\n",
       "      <th>2019-04-07</th>\n",
       "      <td>638</td>\n",
       "    </tr>\n",
       "    <tr>\n",
       "      <th>2019-04-08</th>\n",
       "      <td>5273</td>\n",
       "    </tr>\n",
       "    <tr>\n",
       "      <th>2019-04-09</th>\n",
       "      <td>3796</td>\n",
       "    </tr>\n",
       "    <tr>\n",
       "      <th>2019-04-10</th>\n",
       "      <td>2776</td>\n",
       "    </tr>\n",
       "    <tr>\n",
       "      <th>2019-04-11</th>\n",
       "      <td>14592</td>\n",
       "    </tr>\n",
       "    <tr>\n",
       "      <th>2019-04-12</th>\n",
       "      <td>7308</td>\n",
       "    </tr>\n",
       "    <tr>\n",
       "      <th>2019-04-13</th>\n",
       "      <td>8104</td>\n",
       "    </tr>\n",
       "    <tr>\n",
       "      <th>2019-04-14</th>\n",
       "      <td>5563</td>\n",
       "    </tr>\n",
       "    <tr>\n",
       "      <th>2019-04-15</th>\n",
       "      <td>3766</td>\n",
       "    </tr>\n",
       "    <tr>\n",
       "      <th>2019-04-16</th>\n",
       "      <td>2772</td>\n",
       "    </tr>\n",
       "  </tbody>\n",
       "</table>\n",
       "</div>"
      ],
      "text/plain": [
       "            ad_id\n",
       "date             \n",
       "2019-04-01    904\n",
       "2019-04-02    836\n",
       "2019-04-03    901\n",
       "2019-04-04    790\n",
       "2019-04-05    876\n",
       "2019-04-06    491\n",
       "2019-04-07    638\n",
       "2019-04-08   5273\n",
       "2019-04-09   3796\n",
       "2019-04-10   2776\n",
       "2019-04-11  14592\n",
       "2019-04-12   7308\n",
       "2019-04-13   8104\n",
       "2019-04-14   5563\n",
       "2019-04-15   3766\n",
       "2019-04-16   2772"
      ]
     },
     "execution_count": 335,
     "metadata": {},
     "output_type": "execute_result"
    }
   ],
   "source": [
    "df003.head(20)"
   ]
  },
  {
   "cell_type": "code",
   "execution_count": 336,
   "metadata": {},
   "outputs": [
    {
     "data": {
      "text/plain": [
       "array([[<matplotlib.axes._subplots.AxesSubplot object at 0x13FE05D0>]],\n",
       "      dtype=object)"
      ]
     },
     "execution_count": 336,
     "metadata": {},
     "output_type": "execute_result"
    },
    {
     "data": {
      "image/png": "[encoded data removed]",
      "text/plain": [
       "<Figure size 432x288 with 1 Axes>"
      ]
     },
     "metadata": {
      "needs_background": "light"
     },
     "output_type": "display_data"
    }
   ],
   "source": [
    "df003.hist()"
   ]
  },
  {
   "cell_type": "code",
   "execution_count": 337,
   "metadata": {},
   "outputs": [
    {
     "data": {
      "text/plain": [
       "<matplotlib.axes._subplots.AxesSubplot at 0x13fd7df0>"
      ]
     },
     "execution_count": 337,
     "metadata": {},
     "output_type": "execute_result"
    },
    {
     "data": {
      "image/png": "[encoded data removed]",
      "text/plain": [
       "<Figure size 432x288 with 1 Axes>"
      ]
     },
     "metadata": {
      "needs_background": "light"
     },
     "output_type": "display_data"
    }
   ],
   "source": [
    "df003.plot()"
   ]
  },
  {
   "cell_type": "code",
   "execution_count": 338,
   "metadata": {},
   "outputs": [],
   "source": [
    "df004=df[df.ad_id.isin(ids)].groupby(['date']).agg({'ad_id':'nunique'})"
   ]
  },
  {
   "cell_type": "code",
   "execution_count": 339,
   "metadata": {},
   "outputs": [
    {
     "data": {
      "text/html": [
       "<div>\n",
       "<style scoped>\n",
       "    .dataframe tbody tr th:only-of-type {\n",
       "        vertical-align: middle;\n",
       "    }\n",
       "\n",
       "    .dataframe tbody tr th {\n",
       "        vertical-align: top;\n",
       "    }\n",
       "\n",
       "    .dataframe thead th {\n",
       "        text-align: right;\n",
       "    }\n",
       "</style>\n",
       "<table border=\"1\" class=\"dataframe\">\n",
       "  <thead>\n",
       "    <tr style=\"text-align: right;\">\n",
       "      <th></th>\n",
       "      <th>ad_id</th>\n",
       "    </tr>\n",
       "    <tr>\n",
       "      <th>date</th>\n",
       "      <th></th>\n",
       "    </tr>\n",
       "  </thead>\n",
       "  <tbody>\n",
       "    <tr>\n",
       "      <th>2019-04-01</th>\n",
       "      <td>27</td>\n",
       "    </tr>\n",
       "    <tr>\n",
       "      <th>2019-04-02</th>\n",
       "      <td>29</td>\n",
       "    </tr>\n",
       "    <tr>\n",
       "      <th>2019-04-03</th>\n",
       "      <td>31</td>\n",
       "    </tr>\n",
       "    <tr>\n",
       "      <th>2019-04-04</th>\n",
       "      <td>33</td>\n",
       "    </tr>\n",
       "    <tr>\n",
       "      <th>2019-04-05</th>\n",
       "      <td>35</td>\n",
       "    </tr>\n",
       "    <tr>\n",
       "      <th>2019-04-06</th>\n",
       "      <td>27</td>\n",
       "    </tr>\n",
       "    <tr>\n",
       "      <th>2019-04-07</th>\n",
       "      <td>27</td>\n",
       "    </tr>\n",
       "    <tr>\n",
       "      <th>2019-04-08</th>\n",
       "      <td>36</td>\n",
       "    </tr>\n",
       "    <tr>\n",
       "      <th>2019-04-09</th>\n",
       "      <td>39</td>\n",
       "    </tr>\n",
       "    <tr>\n",
       "      <th>2019-04-10</th>\n",
       "      <td>40</td>\n",
       "    </tr>\n",
       "    <tr>\n",
       "      <th>2019-04-11</th>\n",
       "      <td>40</td>\n",
       "    </tr>\n",
       "    <tr>\n",
       "      <th>2019-04-12</th>\n",
       "      <td>36</td>\n",
       "    </tr>\n",
       "    <tr>\n",
       "      <th>2019-04-13</th>\n",
       "      <td>34</td>\n",
       "    </tr>\n",
       "    <tr>\n",
       "      <th>2019-04-14</th>\n",
       "      <td>35</td>\n",
       "    </tr>\n",
       "    <tr>\n",
       "      <th>2019-04-15</th>\n",
       "      <td>37</td>\n",
       "    </tr>\n",
       "    <tr>\n",
       "      <th>2019-04-16</th>\n",
       "      <td>39</td>\n",
       "    </tr>\n",
       "  </tbody>\n",
       "</table>\n",
       "</div>"
      ],
      "text/plain": [
       "            ad_id\n",
       "date             \n",
       "2019-04-01     27\n",
       "2019-04-02     29\n",
       "2019-04-03     31\n",
       "2019-04-04     33\n",
       "2019-04-05     35\n",
       "2019-04-06     27\n",
       "2019-04-07     27\n",
       "2019-04-08     36\n",
       "2019-04-09     39\n",
       "2019-04-10     40\n",
       "2019-04-11     40\n",
       "2019-04-12     36\n",
       "2019-04-13     34\n",
       "2019-04-14     35\n",
       "2019-04-15     37\n",
       "2019-04-16     39"
      ]
     },
     "execution_count": 339,
     "metadata": {},
     "output_type": "execute_result"
    }
   ],
   "source": [
    "df004.head(20)"
   ]
  },
  {
   "cell_type": "code",
   "execution_count": 340,
   "metadata": {},
   "outputs": [
    {
     "data": {
      "text/plain": [
       "array([[<matplotlib.axes._subplots.AxesSubplot object at 0x1406EE90>]],\n",
       "      dtype=object)"
      ]
     },
     "execution_count": 340,
     "metadata": {},
     "output_type": "execute_result"
    },
    {
     "data": {
      "image/png": "[encoded data removed]",
      "text/plain": [
       "<Figure size 432x288 with 1 Axes>"
      ]
     },
     "metadata": {
      "needs_background": "light"
     },
     "output_type": "display_data"
    }
   ],
   "source": [
    "df004.hist()"
   ]
  },
  {
   "cell_type": "code",
   "execution_count": 345,
   "metadata": {},
   "outputs": [
    {
     "data": {
      "text/plain": [
       "<matplotlib.axes._subplots.AxesSubplot at 0x141e0730>"
      ]
     },
     "execution_count": 345,
     "metadata": {},
     "output_type": "execute_result"
    },
    {
     "data": {
      "image/png": "[encoded data removed]",
      "text/plain": [
       "<Figure size 720x720 with 1 Axes>"
      ]
     },
     "metadata": {
      "needs_background": "light"
     },
     "output_type": "display_data"
    }
   ],
   "source": [
    "df003.plot(kind='bar',figsize=(10,10))"
   ]
  },
  {
   "cell_type": "code",
   "execution_count": null,
   "metadata": {},
   "outputs": [],
   "source": []
  }
 ],
 "metadata": {
  "kernelspec": {
   "display_name": "Python 3",
   "language": "python",
   "name": "python3"
  },
  "language_info": {
   "codemirror_mode": {
    "name": "ipython",
    "version": 3
   },
   "file_extension": ".py",
   "mimetype": "text/x-python",
   "name": "python",
   "nbconvert_exporter": "python",
   "pygments_lexer": "ipython3",
   "version": "3.6.0"
  }
 },
 "nbformat": 4,
 "nbformat_minor": 2
}
